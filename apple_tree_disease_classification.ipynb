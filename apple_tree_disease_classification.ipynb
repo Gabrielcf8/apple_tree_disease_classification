{
 "cells": [
  {
   "cell_type": "markdown",
   "metadata": {},
   "source": [
    "# Imports"
   ]
  },
  {
   "cell_type": "code",
   "execution_count": 1,
   "metadata": {
    "_kg_hide-output": true,
    "execution": {
     "iopub.execute_input": "2022-01-20T12:17:18.990318Z",
     "iopub.status.busy": "2022-01-20T12:17:18.989990Z",
     "iopub.status.idle": "2022-01-20T12:17:22.261393Z",
     "shell.execute_reply": "2022-01-20T12:17:22.260519Z",
     "shell.execute_reply.started": "2022-01-20T12:17:18.990262Z"
    }
   },
   "outputs": [
    {
     "name": "stderr",
     "output_type": "stream",
     "text": [
      "Using TensorFlow backend.\n"
     ]
    }
   ],
   "source": [
    "import cv2\n",
    "import glob\n",
    "import numpy as np\n",
    "import pandas as pd\n",
    "import os, sys, time\n",
    "import tensorflow as tf\n",
    "import matplotlib.pyplot as plt\n",
    "import matplotlib.image as mplimg\n",
    "from matplotlib.pyplot import imshow\n",
    "%matplotlib inline\n",
    "\n",
    "import warnings\n",
    "warnings.simplefilter(\"ignore\", category=DeprecationWarning)\n",
    "\n",
    "import tqdm\n",
    "from PIL import Image\n",
    "import seaborn as sns\n",
    "\n",
    "from collections import OrderedDict\n",
    "\n",
    "from keras.preprocessing import image\n",
    "from keras.preprocessing.image import ImageDataGenerator\n",
    "from keras.applications.imagenet_utils import preprocess_input\n",
    "from keras.utils.np_utils import to_categorical\n",
    "\n",
    "from keras.utils import np_utils\n",
    "from keras.optimizers import RMSprop\n",
    "from keras.models import Model, Sequential\n",
    "from keras.layers.core import Dense, Dropout, Activation, Flatten\n",
    "from keras.layers import Input, BatchNormalization\n",
    "from keras.layers.convolutional import Convolution2D, MaxPooling2D\n",
    "\n",
    "from sklearn.utils import shuffle\n",
    "from sklearn.model_selection import train_test_split\n",
    "from sklearn.preprocessing import LabelEncoder, OneHotEncoder, MultiLabelBinarizer\n",
    "from sklearn.metrics import f1_score, recall_score, precision_score, accuracy_score, balanced_accuracy_score"
   ]
  },
  {
   "cell_type": "markdown",
   "metadata": {},
   "source": [
    "**Tensorflow logger levels**\n",
    "\n",
    "* 0 - DEBUG - [Default] Print all messages\n",
    "* 1 - INFO - Filter out INFO messages\n",
    "* 2 - WARNING - Filter out INFO & WARNING messages\n",
    "* 3 - ERROR - Filter out all messages"
   ]
  },
  {
   "cell_type": "code",
   "execution_count": 2,
   "metadata": {
    "execution": {
     "iopub.execute_input": "2022-01-20T12:17:22.263916Z",
     "iopub.status.busy": "2022-01-20T12:17:22.263362Z",
     "iopub.status.idle": "2022-01-20T12:17:22.268286Z",
     "shell.execute_reply": "2022-01-20T12:17:22.267557Z",
     "shell.execute_reply.started": "2022-01-20T12:17:22.263864Z"
    }
   },
   "outputs": [],
   "source": [
    "os.environ['TF_CPP_MIN_LOG_LEVEL'] = '3'"
   ]
  },
  {
   "cell_type": "markdown",
   "metadata": {},
   "source": [
    "# Definição de classes e funções auxiliares"
   ]
  },
  {
   "cell_type": "code",
   "execution_count": 3,
   "metadata": {
    "execution": {
     "iopub.execute_input": "2022-01-20T12:17:22.270687Z",
     "iopub.status.busy": "2022-01-20T12:17:22.269855Z",
     "iopub.status.idle": "2022-01-20T12:17:22.286950Z",
     "shell.execute_reply": "2022-01-20T12:17:22.285365Z",
     "shell.execute_reply.started": "2022-01-20T12:17:22.270634Z"
    }
   },
   "outputs": [],
   "source": [
    "def plotLabelsDist(labels):\n",
    "    plt.figure(figsize=(15,12))\n",
    "    labels = sns.barplot(x=labels.value_counts().index,y=labels.value_counts())\n",
    "    for item in labels.get_xticklabels():\n",
    "        item.set_rotation(45)"
   ]
  },
  {
   "cell_type": "markdown",
   "metadata": {},
   "source": [
    "### Classe LabelsConverter: responsável por salvar as conversões entre labels para facilitar a identificação posterior"
   ]
  },
  {
   "cell_type": "code",
   "execution_count": 4,
   "metadata": {
    "execution": {
     "iopub.execute_input": "2022-01-20T12:17:22.288654Z",
     "iopub.status.busy": "2022-01-20T12:17:22.288210Z",
     "iopub.status.idle": "2022-01-20T12:17:22.309865Z",
     "shell.execute_reply": "2022-01-20T12:17:22.308204Z",
     "shell.execute_reply.started": "2022-01-20T12:17:22.288606Z"
    }
   },
   "outputs": [],
   "source": [
    "class LabelsConverter:\n",
    "    # Inicia conversor para carregar as informações em self.labels_convert\n",
    "    def init_converter(self):\n",
    "        for index, label in enumerate(self.original_labels):\n",
    "            self.labels_convert.append({\"label\": label, \"encoded\": index, \"categorical\": [], \"index_example\": None})\n",
    "    \n",
    "    # Salva o índice de uma amostra de cada classe para referência posterior\n",
    "    def save_labels_positions(self, y):\n",
    "        for label in self.labels_convert:\n",
    "            indexes = np.where(y == label[\"encoded\"])\n",
    "            label[\"index_example\"] = indexes[0][0]\n",
    "    \n",
    "    # Salva, para cada label, o seu equivalente após a transformação em vetor categórico\n",
    "    def save_categorical(self, y):\n",
    "        for label in self.labels_convert:\n",
    "            index = label[\"index_example\"]\n",
    "            label[\"categorical\"] = y[index]\n",
    "    \n",
    "    # Recebe a representação de uma label em vetor categórico e retorna o seu valor legível original\n",
    "    def find_by_categorical(self, categorical):\n",
    "        for label in self.labels_convert:\n",
    "            if np.array_equal(label[\"categorical\"], categorical):\n",
    "                return label[\"label\"]\n",
    "\n",
    "    # Exibe as informações salvas de cada label\n",
    "    def print_conversor(self):\n",
    "        for label in self.labels_convert:\n",
    "            print(label)\n",
    "    \n",
    "    # Instancia a classe com os labels originals e codificados para int\n",
    "    def __init__(self, encoded_labels, original_labels):\n",
    "        self.encoded_labels = encoded_labels\n",
    "        self.original_labels = original_labels\n",
    "        self.labels_convert = []\n",
    "        \n",
    "        self.init_converter()"
   ]
  },
  {
   "cell_type": "markdown",
   "metadata": {},
   "source": [
    "### Funções e classes para leitura e tratamento das imagens"
   ]
  },
  {
   "cell_type": "code",
   "execution_count": 5,
   "metadata": {
    "execution": {
     "iopub.execute_input": "2022-01-20T12:17:22.314190Z",
     "iopub.status.busy": "2022-01-20T12:17:22.313880Z",
     "iopub.status.idle": "2022-01-20T12:17:22.322321Z",
     "shell.execute_reply": "2022-01-20T12:17:22.321330Z",
     "shell.execute_reply.started": "2022-01-20T12:17:22.314138Z"
    }
   },
   "outputs": [],
   "source": [
    "# Recebe uma imagem e a retorna com o filtro aplicado\n",
    "def filter (img):\n",
    "    return img"
   ]
  },
  {
   "cell_type": "code",
   "execution_count": 6,
   "metadata": {
    "execution": {
     "iopub.execute_input": "2022-01-20T12:17:22.325801Z",
     "iopub.status.busy": "2022-01-20T12:17:22.325246Z",
     "iopub.status.idle": "2022-01-20T12:17:22.336409Z",
     "shell.execute_reply": "2022-01-20T12:17:22.335748Z",
     "shell.execute_reply.started": "2022-01-20T12:17:22.325617Z"
    }
   },
   "outputs": [],
   "source": [
    "# Realiza a leitura das imagens, aplica resize e os filtros e retorna um array com as imagens processadas\n",
    "def prepareImages(train, image_size, channel, path, use_filter):\n",
    "    shape = train.shape[0]\n",
    "    dt_proc = np.zeros((shape, image_size, image_size, channel))\n",
    "    \n",
    "    for (index, fig) in enumerate(train['image']):\n",
    "        img = cv2.imread(\"../input/resized-plant2021/\"+path+\"/\"+fig)\n",
    "        if(use_filter):\n",
    "            img = filter(img)\n",
    "\n",
    "        img = cv2.resize(img, (image_size, image_size))\n",
    "\n",
    "        x = image.img_to_array(img)\n",
    "        x = preprocess_input(x)\n",
    "\n",
    "        dt_proc[index] = x\n",
    "        if (index%500 == 0):\n",
    "            print(\"Processando imagem: \", index+1, \", \", fig)\n",
    "    \n",
    "    return dt_proc"
   ]
  },
  {
   "cell_type": "markdown",
   "metadata": {},
   "source": [
    "### Classe para visualização de gráficos relativos aos modelos"
   ]
  },
  {
   "cell_type": "code",
   "execution_count": 7,
   "metadata": {
    "execution": {
     "iopub.execute_input": "2022-01-20T12:17:22.340457Z",
     "iopub.status.busy": "2022-01-20T12:17:22.340070Z",
     "iopub.status.idle": "2022-01-20T12:17:22.366764Z",
     "shell.execute_reply": "2022-01-20T12:17:22.365721Z",
     "shell.execute_reply.started": "2022-01-20T12:17:22.340410Z"
    }
   },
   "outputs": [],
   "source": [
    "class HistoryPlot:\n",
    "    # Plota a curva da perda no Treino\n",
    "    def plot_loss(self):\n",
    "        plt.plot(self.history['loss'], color='r', label=\"Train Loss\")\n",
    "        plt.title(\"Train Loss\")\n",
    "        plt.xlabel(\"Number of Epochs\")\n",
    "        plt.ylabel(\"Loss\")\n",
    "        plt.legend()\n",
    "        plt.show()\n",
    "        \n",
    "    # Plota a curva da acurácia no Treino\n",
    "    def plot_accuracy(self):\n",
    "        plt.plot(self.history[self.acc_field], color='g', label=\"Train Accuracy\")\n",
    "        plt.title(\"Train Accuracy\")\n",
    "        plt.xlabel(\"Number of Epochs\")\n",
    "        plt.ylabel(\"Accuracy\")\n",
    "        plt.legend()\n",
    "        plt.show()\n",
    "\n",
    "    # Plota o valor da acurácia x o valor da perda\n",
    "    def plot_loss_accuracy(self, X_test, Y_test):\n",
    "        print('Perda de treino do modelo: ', self.history['loss'][-1])\n",
    "        print('Acurácia de treino do modelo: ', self.history[self.acc_field][-1])\n",
    "\n",
    "        score = self.model.evaluate(X_test, Y_test, verbose=0)\n",
    "        print('Perda de teste do modelo:', score[0])\n",
    "        print('Acurácia de teste do modelo:', score[1])\n",
    "\n",
    "        plt.plot(self.history[self.acc_field])\n",
    "        plt.plot(self.history['loss'])\n",
    "        plt.title('Model Accuracy vs Loss')\n",
    "        plt.ylabel('Accuracy')\n",
    "        plt.xlabel('Epoch')\n",
    "        plt.legend(['Accuracy (' + str(round(score[1],2)) + ')', 'Loss (' + str(round(score[0],2)) + ')'], loc='upper left')\n",
    "        plt.show()\n",
    "    \n",
    "    # Instancia a classe com o histórico e o modelo a ser avaliado\n",
    "    def __init__(self, history, model):\n",
    "        self.history = history.history\n",
    "        self.model = model\n",
    "        self.acc_field = 'acc'\n",
    "        \n",
    "        if 'accuracy' in history.history:\n",
    "            self.acc_field = 'accuracy'"
   ]
  },
  {
   "cell_type": "markdown",
   "metadata": {},
   "source": [
    "### Classes para mostrar as métricas de validação"
   ]
  },
  {
   "cell_type": "code",
   "execution_count": 8,
   "metadata": {
    "execution": {
     "iopub.execute_input": "2022-01-20T12:17:22.370170Z",
     "iopub.status.busy": "2022-01-20T12:17:22.369890Z",
     "iopub.status.idle": "2022-01-20T12:17:22.390594Z",
     "shell.execute_reply": "2022-01-20T12:17:22.389486Z",
     "shell.execute_reply.started": "2022-01-20T12:17:22.370125Z"
    }
   },
   "outputs": [],
   "source": [
    "# Recebe um array de predições as binariza\n",
    "def binarize(y):\n",
    "    for label in y:\n",
    "        for index, n in enumerate(label):\n",
    "            if n <= 0.5:\n",
    "                label[index] = 0\n",
    "            else:\n",
    "                label[index] = 1\n",
    "    \n",
    "# Exibe as seguintes métricas em relação ao modelo: Precisão, revocação e F-medida\n",
    "def print_metrics(model, X, y):\n",
    "    predictions = model.predict(X)\n",
    "    binarize(predictions)\n",
    "\n",
    "    precision_score_res = precision_score(y.argmax(axis=1), predictions.argmax(axis=1), average='weighted')\n",
    "    recall_score_res = recall_score(y.argmax(axis=1), predictions.argmax(axis=1), average='weighted')\n",
    "    f1_score_res = f1_score(y.argmax(axis=1), predictions.argmax(axis=1), average='weighted')\n",
    "    accuracy_score_res = accuracy_score(y.argmax(axis=1), predictions.argmax(axis=1))\n",
    "    balanced_accuracy_score_res = balanced_accuracy_score(y.argmax(axis=1), predictions.argmax(axis=1))\n",
    "\n",
    "    print(\"Precisão do modelo: \", precision_score_res)\n",
    "    print(\"Revocação do modelo: \", recall_score_res)\n",
    "    print(\"F-medida: \", f1_score_res)\n",
    "    print(\"Acurácia: \", accuracy_score_res)\n",
    "    print(\"Acurácia balanceada: \", balanced_accuracy_score_res)"
   ]
  },
  {
   "cell_type": "code",
   "execution_count": 9,
   "metadata": {
    "execution": {
     "iopub.execute_input": "2022-01-20T12:17:22.394548Z",
     "iopub.status.busy": "2022-01-20T12:17:22.393201Z",
     "iopub.status.idle": "2022-01-20T12:17:22.408283Z",
     "shell.execute_reply": "2022-01-20T12:17:22.407652Z",
     "shell.execute_reply.started": "2022-01-20T12:17:22.394410Z"
    }
   },
   "outputs": [],
   "source": [
    "def print_metrics_per_class(X, y, labels_converter, model):\n",
    "    classes = {}\n",
    "    for index, cat in enumerate(y):\n",
    "        label = labels_converter.find_by_categorical(cat)\n",
    "        \n",
    "        if label not in classes:\n",
    "            classes[label] = []\n",
    "            \n",
    "        classes[label].append(index)\n",
    "    \n",
    "    for _class in classes:\n",
    "        class_X = X.take(classes[_class], axis=0)\n",
    "        class_y = y.take(classes[_class], axis=0)\n",
    "        \n",
    "        print(f'classe {_class}, com {class_X.shape[0]} ocorrências:')\n",
    "        print_metrics(model, class_X, class_y)\n",
    "        print('-----------------------------\\n')"
   ]
  },
  {
   "cell_type": "markdown",
   "metadata": {},
   "source": [
    "# Define constantes de configurações a serem usados no projeto"
   ]
  },
  {
   "cell_type": "code",
   "execution_count": 10,
   "metadata": {
    "execution": {
     "iopub.execute_input": "2022-01-20T12:17:22.416058Z",
     "iopub.status.busy": "2022-01-20T12:17:22.413210Z",
     "iopub.status.idle": "2022-01-20T12:17:22.426055Z",
     "shell.execute_reply": "2022-01-20T12:17:22.421785Z",
     "shell.execute_reply.started": "2022-01-20T12:17:22.414528Z"
    }
   },
   "outputs": [],
   "source": [
    "# Configura o tamanho da imagem (altura e largura são iguais)\n",
    "IMAGE_SIZE = 100\n",
    "\n",
    "# Configura os canais de cada pixel (3 para R, G e B)\n",
    "CHANNELS = 3\n",
    "\n",
    "# Configura a representação de uma imagem baseado no tamanho e canais\n",
    "IMG_SHAPE = (IMAGE_SIZE, IMAGE_SIZE, CHANNELS)\n",
    "\n",
    "# Configura o uso de filtro nas imagens\n",
    "USE_FILTER = False"
   ]
  },
  {
   "cell_type": "markdown",
   "metadata": {},
   "source": [
    "# Leitura dos dados e análise exploratória\n",
    "\n",
    "#### As imagens de treino utilizadas são de uma coleção auxiliar de tamanho reduzido, para aumentar a velocidade de processamento e diminuir o uso de RAM"
   ]
  },
  {
   "cell_type": "code",
   "execution_count": 11,
   "metadata": {
    "execution": {
     "iopub.execute_input": "2022-01-20T12:17:22.427495Z",
     "iopub.status.busy": "2022-01-20T12:17:22.427139Z",
     "iopub.status.idle": "2022-01-20T12:17:22.503234Z",
     "shell.execute_reply": "2022-01-20T12:17:22.502582Z",
     "shell.execute_reply.started": "2022-01-20T12:17:22.427455Z"
    }
   },
   "outputs": [],
   "source": [
    "train_path = '../input/plant-pathology-2021-fgvc8/train.csv'\n",
    "test_path = '../input/plant-pathology-2021-fgvc8/sample_submission.csv'\n",
    "train_image_path = '../input/resized-plant2021/img_sz_640'\n",
    "test_image_path = '../input/plant-pathology-2021-fgvc8/test_images'\n",
    "\n",
    "train = pd.read_csv(train_path)\n",
    "test = pd.read_csv(test_path)"
   ]
  },
  {
   "cell_type": "markdown",
   "metadata": {},
   "source": [
    "### Exibe os primeiros dados para treino"
   ]
  },
  {
   "cell_type": "code",
   "execution_count": 12,
   "metadata": {
    "_cell_guid": "79c7e3d0-c299-4dcb-8224-4455121ee9b0",
    "_uuid": "d629ff2d2480ee46fbb7e2d37f6b5fab8052498a",
    "execution": {
     "iopub.execute_input": "2022-01-20T12:17:22.504666Z",
     "iopub.status.busy": "2022-01-20T12:17:22.504277Z",
     "iopub.status.idle": "2022-01-20T12:17:22.534168Z",
     "shell.execute_reply": "2022-01-20T12:17:22.533444Z",
     "shell.execute_reply.started": "2022-01-20T12:17:22.504622Z"
    }
   },
   "outputs": [
    {
     "data": {
      "text/html": [
       "<div>\n",
       "<style scoped>\n",
       "    .dataframe tbody tr th:only-of-type {\n",
       "        vertical-align: middle;\n",
       "    }\n",
       "\n",
       "    .dataframe tbody tr th {\n",
       "        vertical-align: top;\n",
       "    }\n",
       "\n",
       "    .dataframe thead th {\n",
       "        text-align: right;\n",
       "    }\n",
       "</style>\n",
       "<table border=\"1\" class=\"dataframe\">\n",
       "  <thead>\n",
       "    <tr style=\"text-align: right;\">\n",
       "      <th></th>\n",
       "      <th>image</th>\n",
       "      <th>labels</th>\n",
       "    </tr>\n",
       "  </thead>\n",
       "  <tbody>\n",
       "    <tr>\n",
       "      <td>0</td>\n",
       "      <td>800113bb65efe69e.jpg</td>\n",
       "      <td>healthy</td>\n",
       "    </tr>\n",
       "    <tr>\n",
       "      <td>1</td>\n",
       "      <td>8002cb321f8bfcdf.jpg</td>\n",
       "      <td>scab frog_eye_leaf_spot complex</td>\n",
       "    </tr>\n",
       "    <tr>\n",
       "      <td>2</td>\n",
       "      <td>80070f7fb5e2ccaa.jpg</td>\n",
       "      <td>scab</td>\n",
       "    </tr>\n",
       "    <tr>\n",
       "      <td>3</td>\n",
       "      <td>80077517781fb94f.jpg</td>\n",
       "      <td>scab</td>\n",
       "    </tr>\n",
       "    <tr>\n",
       "      <td>4</td>\n",
       "      <td>800cbf0ff87721f8.jpg</td>\n",
       "      <td>complex</td>\n",
       "    </tr>\n",
       "  </tbody>\n",
       "</table>\n",
       "</div>"
      ],
      "text/plain": [
       "                  image                           labels\n",
       "0  800113bb65efe69e.jpg                          healthy\n",
       "1  8002cb321f8bfcdf.jpg  scab frog_eye_leaf_spot complex\n",
       "2  80070f7fb5e2ccaa.jpg                             scab\n",
       "3  80077517781fb94f.jpg                             scab\n",
       "4  800cbf0ff87721f8.jpg                          complex"
      ]
     },
     "execution_count": 12,
     "metadata": {},
     "output_type": "execute_result"
    }
   ],
   "source": [
    "train.head()"
   ]
  },
  {
   "cell_type": "markdown",
   "metadata": {},
   "source": [
    "### Exibe os dados para teste"
   ]
  },
  {
   "cell_type": "code",
   "execution_count": 13,
   "metadata": {
    "execution": {
     "iopub.execute_input": "2022-01-20T12:17:22.540215Z",
     "iopub.status.busy": "2022-01-20T12:17:22.538153Z",
     "iopub.status.idle": "2022-01-20T12:17:22.553598Z",
     "shell.execute_reply": "2022-01-20T12:17:22.552871Z",
     "shell.execute_reply.started": "2022-01-20T12:17:22.540166Z"
    }
   },
   "outputs": [
    {
     "data": {
      "text/html": [
       "<div>\n",
       "<style scoped>\n",
       "    .dataframe tbody tr th:only-of-type {\n",
       "        vertical-align: middle;\n",
       "    }\n",
       "\n",
       "    .dataframe tbody tr th {\n",
       "        vertical-align: top;\n",
       "    }\n",
       "\n",
       "    .dataframe thead th {\n",
       "        text-align: right;\n",
       "    }\n",
       "</style>\n",
       "<table border=\"1\" class=\"dataframe\">\n",
       "  <thead>\n",
       "    <tr style=\"text-align: right;\">\n",
       "      <th></th>\n",
       "      <th>image</th>\n",
       "      <th>labels</th>\n",
       "    </tr>\n",
       "  </thead>\n",
       "  <tbody>\n",
       "    <tr>\n",
       "      <td>0</td>\n",
       "      <td>85f8cb619c66b863.jpg</td>\n",
       "      <td>healthy</td>\n",
       "    </tr>\n",
       "    <tr>\n",
       "      <td>1</td>\n",
       "      <td>ad8770db05586b59.jpg</td>\n",
       "      <td>healthy</td>\n",
       "    </tr>\n",
       "    <tr>\n",
       "      <td>2</td>\n",
       "      <td>c7b03e718489f3ca.jpg</td>\n",
       "      <td>healthy</td>\n",
       "    </tr>\n",
       "  </tbody>\n",
       "</table>\n",
       "</div>"
      ],
      "text/plain": [
       "                  image   labels\n",
       "0  85f8cb619c66b863.jpg  healthy\n",
       "1  ad8770db05586b59.jpg  healthy\n",
       "2  c7b03e718489f3ca.jpg  healthy"
      ]
     },
     "execution_count": 13,
     "metadata": {},
     "output_type": "execute_result"
    }
   ],
   "source": [
    "test.head()"
   ]
  },
  {
   "cell_type": "markdown",
   "metadata": {},
   "source": [
    "### Exibe informação sobre o tamanho do dataset"
   ]
  },
  {
   "cell_type": "code",
   "execution_count": 14,
   "metadata": {
    "execution": {
     "iopub.execute_input": "2022-01-20T12:17:22.559587Z",
     "iopub.status.busy": "2022-01-20T12:17:22.556638Z",
     "iopub.status.idle": "2022-01-20T12:17:23.069304Z",
     "shell.execute_reply": "2022-01-20T12:17:23.068366Z",
     "shell.execute_reply.started": "2022-01-20T12:17:22.559525Z"
    }
   },
   "outputs": [
    {
     "name": "stdout",
     "output_type": "stream",
     "text": [
      "O dataset de treino possui 18632 imagens, com 12 classes únicas.\n",
      "O dataset de treino possui 3 imagens.\n"
     ]
    }
   ],
   "source": [
    "print(f\"O dataset de treino possui {len(os.listdir(train_image_path))} imagens, com {train.labels.nunique()} classes únicas.\")\n",
    "print(f\"O dataset de treino possui {len(os.listdir(test_image_path))} imagens.\")"
   ]
  },
  {
   "cell_type": "code",
   "execution_count": 15,
   "metadata": {
    "execution": {
     "iopub.execute_input": "2022-01-20T12:17:23.071892Z",
     "iopub.status.busy": "2022-01-20T12:17:23.071376Z",
     "iopub.status.idle": "2022-01-20T12:17:23.085063Z",
     "shell.execute_reply": "2022-01-20T12:17:23.084349Z",
     "shell.execute_reply.started": "2022-01-20T12:17:23.071843Z"
    }
   },
   "outputs": [
    {
     "data": {
      "text/plain": [
       "scab                               4826\n",
       "healthy                            4624\n",
       "frog_eye_leaf_spot                 3181\n",
       "rust                               1860\n",
       "complex                            1602\n",
       "powdery_mildew                     1184\n",
       "scab frog_eye_leaf_spot             686\n",
       "scab frog_eye_leaf_spot complex     200\n",
       "frog_eye_leaf_spot complex          165\n",
       "rust frog_eye_leaf_spot             120\n",
       "rust complex                         97\n",
       "powdery_mildew complex               87\n",
       "Name: labels, dtype: int64"
      ]
     },
     "execution_count": 15,
     "metadata": {},
     "output_type": "execute_result"
    }
   ],
   "source": [
    "train.labels.value_counts()"
   ]
  },
  {
   "cell_type": "code",
   "execution_count": 16,
   "metadata": {
    "execution": {
     "iopub.execute_input": "2022-01-20T12:17:23.088606Z",
     "iopub.status.busy": "2022-01-20T12:17:23.087556Z",
     "iopub.status.idle": "2022-01-20T12:17:23.456339Z",
     "shell.execute_reply": "2022-01-20T12:17:23.455540Z",
     "shell.execute_reply.started": "2022-01-20T12:17:23.087781Z"
    }
   },
   "outputs": [
    {
     "data": {
      "image/png": "[encoded data removed]",
      "text/plain": [
       "<Figure size 1080x864 with 1 Axes>"
      ]
     },
     "metadata": {
      "needs_background": "light"
     },
     "output_type": "display_data"
    }
   ],
   "source": [
    "plotLabelsDist(train.labels)"
   ]
  },
  {
   "cell_type": "markdown",
   "metadata": {},
   "source": [
    "### Carrega as imagens para memória, aplicando o pré-processamento definido"
   ]
  },
  {
   "cell_type": "code",
   "execution_count": 17,
   "metadata": {
    "execution": {
     "iopub.execute_input": "2022-01-20T12:17:23.457950Z",
     "iopub.status.busy": "2022-01-20T12:17:23.457685Z",
     "iopub.status.idle": "2022-01-20T12:20:40.159028Z",
     "shell.execute_reply": "2022-01-20T12:20:40.158293Z",
     "shell.execute_reply.started": "2022-01-20T12:17:23.457905Z"
    }
   },
   "outputs": [
    {
     "name": "stdout",
     "output_type": "stream",
     "text": [
      "Processando imagem:  1 ,  800113bb65efe69e.jpg\n",
      "Processando imagem:  501 ,  838397476a6b323d.jpg\n",
      "Processando imagem:  1001 ,  870963e53fb5e023.jpg\n",
      "Processando imagem:  1501 ,  8b9274cb3409f27d.jpg\n",
      "Processando imagem:  2001 ,  905b6691423fc73d.jpg\n",
      "Processando imagem:  2501 ,  9472e4d782deb192.jpg\n",
      "Processando imagem:  3001 ,  972896b94aaba4b5.jpg\n",
      "Processando imagem:  3501 ,  9cbe21bb0960e3e5.jpg\n",
      "Processando imagem:  4001 ,  a0c0c2dad98d5ebd.jpg\n",
      "Processando imagem:  4501 ,  a49b8711ad95a477.jpg\n",
      "Processando imagem:  5001 ,  a6f1cac269679750.jpg\n",
      "Processando imagem:  5501 ,  a9e4262e5db77482.jpg\n",
      "Processando imagem:  6001 ,  ac4995f982d6ed12.jpg\n",
      "Processando imagem:  6501 ,  aed2d487cc16cc99.jpg\n",
      "Processando imagem:  7001 ,  b1e4c7830f1b5a72.jpg\n",
      "Processando imagem:  7501 ,  b539ca5f5d691848.jpg\n",
      "Processando imagem:  8001 ,  b84ff05dd401e6c9.jpg\n",
      "Processando imagem:  8501 ,  bcf212f04abf5b10.jpg\n",
      "Processando imagem:  9001 ,  bffb10816192a1fa.jpg\n",
      "Processando imagem:  9501 ,  c1e068e15f4fb18d.jpg\n",
      "Processando imagem:  10001 ,  c53532c8cc5ed0ee.jpg\n",
      "Processando imagem:  10501 ,  c8bd2b702d96a758.jpg\n",
      "Processando imagem:  11001 ,  ccc1f9631f608b36.jpg\n",
      "Processando imagem:  11501 ,  d07fe02dac1e1393.jpg\n",
      "Processando imagem:  12001 ,  d3cec18aa4df089d.jpg\n",
      "Processando imagem:  12501 ,  d6e17a6e2d919843.jpg\n",
      "Processando imagem:  13001 ,  dae68ae2dc298639.jpg\n",
      "Processando imagem:  13501 ,  df1026c0dc7f36c4.jpg\n",
      "Processando imagem:  14001 ,  e19791d01e683d3d.jpg\n",
      "Processando imagem:  14501 ,  e5a1822ffe52f0a1.jpg\n",
      "Processando imagem:  15001 ,  e9adcb719ad23248.jpg\n",
      "Processando imagem:  15501 ,  ed70d26a99d51a8c.jpg\n",
      "Processando imagem:  16001 ,  f0c8a0ccf9fda311.jpg\n",
      "Processando imagem:  16501 ,  f468bb1136c7c51c.jpg\n",
      "Processando imagem:  17001 ,  f693c3894fc63612.jpg\n",
      "Processando imagem:  17501 ,  f9fdd115893ad810.jpg\n",
      "Processando imagem:  18001 ,  fcf180c5ed1f050b.jpg\n",
      "Processando imagem:  18501 ,  ff81e70d86ee2460.jpg\n",
      "Imagens carregadas em: 184.86069178581238 segundos.\n"
     ]
    }
   ],
   "source": [
    "start = time.time()\n",
    "dt_proc = prepareImages(train, IMAGE_SIZE, CHANNELS, \"img_sz_640\", USE_FILTER)\n",
    "end = time.time()\n",
    "\n",
    "elapsed = end - start\n",
    "print(f\"Imagens carregadas em: {elapsed} segundos.\")"
   ]
  },
  {
   "cell_type": "markdown",
   "metadata": {},
   "source": [
    "### Normaliza os valores dos pixels para valores entre 0 e 1"
   ]
  },
  {
   "cell_type": "code",
   "execution_count": 18,
   "metadata": {
    "execution": {
     "iopub.execute_input": "2022-01-20T12:20:40.162133Z",
     "iopub.status.busy": "2022-01-20T12:20:40.161668Z",
     "iopub.status.idle": "2022-01-20T12:20:42.983708Z",
     "shell.execute_reply": "2022-01-20T12:20:42.983005Z",
     "shell.execute_reply.started": "2022-01-20T12:20:40.162081Z"
    }
   },
   "outputs": [],
   "source": [
    "dt_proc = dt_proc / 255.0"
   ]
  },
  {
   "cell_type": "markdown",
   "metadata": {},
   "source": [
    "# Conversões dos rótulos"
   ]
  },
  {
   "cell_type": "markdown",
   "metadata": {},
   "source": [
    "### Define a variável y contendo os rótulos e exibe suas informações"
   ]
  },
  {
   "cell_type": "code",
   "execution_count": 19,
   "metadata": {
    "execution": {
     "iopub.execute_input": "2022-01-20T12:20:42.985301Z",
     "iopub.status.busy": "2022-01-20T12:20:42.985034Z",
     "iopub.status.idle": "2022-01-20T12:20:42.993419Z",
     "shell.execute_reply": "2022-01-20T12:20:42.991645Z",
     "shell.execute_reply.started": "2022-01-20T12:20:42.985259Z"
    }
   },
   "outputs": [
    {
     "name": "stdout",
     "output_type": "stream",
     "text": [
      "0                                healthy\n",
      "1        scab frog_eye_leaf_spot complex\n",
      "2                                   scab\n",
      "3                                   scab\n",
      "4                                complex\n",
      "                      ...               \n",
      "18627                            healthy\n",
      "18628                               scab\n",
      "18629                               rust\n",
      "18630            scab frog_eye_leaf_spot\n",
      "18631                            healthy\n",
      "Name: labels, Length: 18632, dtype: object\n",
      "(18632,)\n"
     ]
    }
   ],
   "source": [
    "y = train[\"labels\"]\n",
    "\n",
    "print(y)\n",
    "print(y.shape)"
   ]
  },
  {
   "cell_type": "code",
   "execution_count": 20,
   "metadata": {
    "execution": {
     "iopub.execute_input": "2022-01-20T12:20:42.994841Z",
     "iopub.status.busy": "2022-01-20T12:20:42.994558Z",
     "iopub.status.idle": "2022-01-20T12:20:43.016228Z",
     "shell.execute_reply": "2022-01-20T12:20:43.015405Z",
     "shell.execute_reply.started": "2022-01-20T12:20:42.994794Z"
    }
   },
   "outputs": [
    {
     "data": {
      "text/plain": [
       "count     18632\n",
       "unique       12\n",
       "top        scab\n",
       "freq       4826\n",
       "Name: labels, dtype: object"
      ]
     },
     "execution_count": 20,
     "metadata": {},
     "output_type": "execute_result"
    }
   ],
   "source": [
    "y.describe()"
   ]
  },
  {
   "cell_type": "markdown",
   "metadata": {},
   "source": [
    "### Configura o número de labels que utilizaremos"
   ]
  },
  {
   "cell_type": "code",
   "execution_count": 21,
   "metadata": {
    "execution": {
     "iopub.execute_input": "2022-01-20T12:20:43.017852Z",
     "iopub.status.busy": "2022-01-20T12:20:43.017423Z",
     "iopub.status.idle": "2022-01-20T12:20:43.024320Z",
     "shell.execute_reply": "2022-01-20T12:20:43.023402Z",
     "shell.execute_reply.started": "2022-01-20T12:20:43.017682Z"
    }
   },
   "outputs": [
    {
     "name": "stdout",
     "output_type": "stream",
     "text": [
      "NUM_LABELS:  12\n"
     ]
    }
   ],
   "source": [
    "NUM_LABELS = y.nunique()\n",
    "\n",
    "print('NUM_LABELS: ', NUM_LABELS)"
   ]
  },
  {
   "cell_type": "markdown",
   "metadata": {},
   "source": [
    "### Realiza uma codificação dos rótulos de texto para números inteiros"
   ]
  },
  {
   "cell_type": "code",
   "execution_count": 22,
   "metadata": {
    "execution": {
     "iopub.execute_input": "2022-01-20T12:20:43.026316Z",
     "iopub.status.busy": "2022-01-20T12:20:43.025808Z",
     "iopub.status.idle": "2022-01-20T12:20:43.040456Z",
     "shell.execute_reply": "2022-01-20T12:20:43.039527Z",
     "shell.execute_reply.started": "2022-01-20T12:20:43.026143Z"
    }
   },
   "outputs": [
    {
     "name": "stdout",
     "output_type": "stream",
     "text": [
      "[ 3 11  9 ...  6 10  3]\n",
      "(18632,)\n"
     ]
    }
   ],
   "source": [
    "label_encoder = LabelEncoder()\n",
    "\n",
    "y_encoded = label_encoder.fit_transform(y)\n",
    "print(y_encoded)\n",
    "print(y_encoded.shape)"
   ]
  },
  {
   "cell_type": "markdown",
   "metadata": {},
   "source": [
    "### Inicializa Labels Converter para facilitar a localização de rótulos"
   ]
  },
  {
   "cell_type": "code",
   "execution_count": 23,
   "metadata": {
    "execution": {
     "iopub.execute_input": "2022-01-20T12:20:43.042709Z",
     "iopub.status.busy": "2022-01-20T12:20:43.042114Z",
     "iopub.status.idle": "2022-01-20T12:20:43.050829Z",
     "shell.execute_reply": "2022-01-20T12:20:43.050079Z",
     "shell.execute_reply.started": "2022-01-20T12:20:43.042420Z"
    }
   },
   "outputs": [],
   "source": [
    "encoded_labels = list(range(0, NUM_LABELS))\n",
    "original_labels = label_encoder.inverse_transform(encoded_labels)\n",
    "\n",
    "labels_converter = LabelsConverter(encoded_labels, original_labels)\n",
    "    \n",
    "labels_converter.save_labels_positions(y_encoded)"
   ]
  },
  {
   "cell_type": "markdown",
   "metadata": {},
   "source": [
    "### Transforma os rótulos de inteiros para vetores representando os rótulos categóricos"
   ]
  },
  {
   "cell_type": "code",
   "execution_count": 24,
   "metadata": {
    "execution": {
     "iopub.execute_input": "2022-01-20T12:20:43.052974Z",
     "iopub.status.busy": "2022-01-20T12:20:43.052494Z",
     "iopub.status.idle": "2022-01-20T12:20:43.060623Z",
     "shell.execute_reply": "2022-01-20T12:20:43.059809Z",
     "shell.execute_reply.started": "2022-01-20T12:20:43.052809Z"
    }
   },
   "outputs": [
    {
     "name": "stdout",
     "output_type": "stream",
     "text": [
      "[[0. 0. 0. ... 0. 0. 0.]\n",
      " [0. 0. 0. ... 0. 0. 1.]\n",
      " [0. 0. 0. ... 1. 0. 0.]\n",
      " ...\n",
      " [0. 0. 0. ... 0. 0. 0.]\n",
      " [0. 0. 0. ... 0. 1. 0.]\n",
      " [0. 0. 0. ... 0. 0. 0.]]\n",
      "(18632, 12)\n"
     ]
    }
   ],
   "source": [
    "y_categorical = to_categorical(y_encoded, num_classes=NUM_LABELS)\n",
    "print(y_categorical)\n",
    "print(y_categorical.shape)"
   ]
  },
  {
   "cell_type": "markdown",
   "metadata": {},
   "source": [
    "### Adiciona as labels categoricas ao LabelConverter"
   ]
  },
  {
   "cell_type": "code",
   "execution_count": 25,
   "metadata": {
    "execution": {
     "iopub.execute_input": "2022-01-20T12:20:43.063155Z",
     "iopub.status.busy": "2022-01-20T12:20:43.062663Z",
     "iopub.status.idle": "2022-01-20T12:20:43.077147Z",
     "shell.execute_reply": "2022-01-20T12:20:43.076611Z",
     "shell.execute_reply.started": "2022-01-20T12:20:43.062995Z"
    }
   },
   "outputs": [
    {
     "name": "stdout",
     "output_type": "stream",
     "text": [
      "{'label': 'complex', 'encoded': 0, 'categorical': array([1., 0., 0., 0., 0., 0., 0., 0., 0., 0., 0., 0.], dtype=float32), 'index_example': 4}\n",
      "{'label': 'frog_eye_leaf_spot', 'encoded': 1, 'categorical': array([0., 1., 0., 0., 0., 0., 0., 0., 0., 0., 0., 0.], dtype=float32), 'index_example': 14}\n",
      "{'label': 'frog_eye_leaf_spot complex', 'encoded': 2, 'categorical': array([0., 0., 1., 0., 0., 0., 0., 0., 0., 0., 0., 0.], dtype=float32), 'index_example': 62}\n",
      "{'label': 'healthy', 'encoded': 3, 'categorical': array([0., 0., 0., 1., 0., 0., 0., 0., 0., 0., 0., 0.], dtype=float32), 'index_example': 0}\n",
      "{'label': 'powdery_mildew', 'encoded': 4, 'categorical': array([0., 0., 0., 0., 1., 0., 0., 0., 0., 0., 0., 0.], dtype=float32), 'index_example': 20}\n",
      "{'label': 'powdery_mildew complex', 'encoded': 5, 'categorical': array([0., 0., 0., 0., 0., 1., 0., 0., 0., 0., 0., 0.], dtype=float32), 'index_example': 77}\n",
      "{'label': 'rust', 'encoded': 6, 'categorical': array([0., 0., 0., 0., 0., 0., 1., 0., 0., 0., 0., 0.], dtype=float32), 'index_example': 6}\n",
      "{'label': 'rust complex', 'encoded': 7, 'categorical': array([0., 0., 0., 0., 0., 0., 0., 1., 0., 0., 0., 0.], dtype=float32), 'index_example': 334}\n",
      "{'label': 'rust frog_eye_leaf_spot', 'encoded': 8, 'categorical': array([0., 0., 0., 0., 0., 0., 0., 0., 1., 0., 0., 0.], dtype=float32), 'index_example': 75}\n",
      "{'label': 'scab', 'encoded': 9, 'categorical': array([0., 0., 0., 0., 0., 0., 0., 0., 0., 1., 0., 0.], dtype=float32), 'index_example': 2}\n",
      "{'label': 'scab frog_eye_leaf_spot', 'encoded': 10, 'categorical': array([0., 0., 0., 0., 0., 0., 0., 0., 0., 0., 1., 0.], dtype=float32), 'index_example': 50}\n",
      "{'label': 'scab frog_eye_leaf_spot complex', 'encoded': 11, 'categorical': array([0., 0., 0., 0., 0., 0., 0., 0., 0., 0., 0., 1.], dtype=float32), 'index_example': 1}\n"
     ]
    }
   ],
   "source": [
    "labels_converter.save_categorical(y_categorical)\n",
    "labels_converter.print_conversor()"
   ]
  },
  {
   "cell_type": "markdown",
   "metadata": {},
   "source": [
    "# Divisão do dataset entre Treino e Validação"
   ]
  },
  {
   "cell_type": "code",
   "execution_count": 26,
   "metadata": {
    "execution": {
     "iopub.execute_input": "2022-01-20T12:20:43.080104Z",
     "iopub.status.busy": "2022-01-20T12:20:43.079892Z",
     "iopub.status.idle": "2022-01-20T12:20:45.690084Z",
     "shell.execute_reply": "2022-01-20T12:20:45.689185Z",
     "shell.execute_reply.started": "2022-01-20T12:20:43.080064Z"
    }
   },
   "outputs": [],
   "source": [
    "X_train, X_test, Y_train, Y_test = train_test_split(dt_proc, y_categorical, test_size=0.2, random_state=42)"
   ]
  },
  {
   "cell_type": "markdown",
   "metadata": {},
   "source": [
    "# CNN"
   ]
  },
  {
   "cell_type": "markdown",
   "metadata": {},
   "source": [
    "### Define algumas configurações a serem usadas no modelo"
   ]
  },
  {
   "cell_type": "code",
   "execution_count": 27,
   "metadata": {
    "execution": {
     "iopub.execute_input": "2022-01-20T12:20:45.691984Z",
     "iopub.status.busy": "2022-01-20T12:20:45.691674Z",
     "iopub.status.idle": "2022-01-20T12:20:45.697130Z",
     "shell.execute_reply": "2022-01-20T12:20:45.696311Z",
     "shell.execute_reply.started": "2022-01-20T12:20:45.691937Z"
    }
   },
   "outputs": [],
   "source": [
    "LOSS_FUNCTION = 'categorical_crossentropy'\n",
    "\n",
    "OPTIMIZER = 'Adam'\n",
    "\n",
    "BATCH_SIZE = 4\n",
    "\n",
    "EPOCHS = 10"
   ]
  },
  {
   "cell_type": "markdown",
   "metadata": {},
   "source": [
    "### Define o modelo e suas camadas"
   ]
  },
  {
   "cell_type": "code",
   "execution_count": 28,
   "metadata": {
    "execution": {
     "iopub.execute_input": "2022-01-20T12:20:45.699353Z",
     "iopub.status.busy": "2022-01-20T12:20:45.698791Z",
     "iopub.status.idle": "2022-01-20T12:20:45.837425Z",
     "shell.execute_reply": "2022-01-20T12:20:45.836848Z",
     "shell.execute_reply.started": "2022-01-20T12:20:45.699304Z"
    }
   },
   "outputs": [],
   "source": [
    "cnn_model = Sequential()\n",
    "\n",
    "cnn_model.add(Convolution2D(32, (3,3), activation='relu', padding='same', input_shape=IMG_SHAPE))\n",
    "cnn_model.add(MaxPooling2D(2,2))\n",
    "cnn_model.add(Convolution2D(64, (3,3), activation='relu', padding='same'))\n",
    "cnn_model.add(MaxPooling2D(2,2))\n",
    "cnn_model.add(Convolution2D(128, (3,3), activation='relu', padding='same'))\n",
    "cnn_model.add(MaxPooling2D(2,2))\n",
    "cnn_model.add(Convolution2D(256, (3,3), activation='relu', padding='same'))\n",
    "cnn_model.add(MaxPooling2D(2,2))\n",
    "cnn_model.add(Flatten())\n",
    "cnn_model.add(Dense(NUM_LABELS, activation='softmax'))"
   ]
  },
  {
   "cell_type": "code",
   "execution_count": 29,
   "metadata": {
    "execution": {
     "iopub.execute_input": "2022-01-20T12:20:45.838857Z",
     "iopub.status.busy": "2022-01-20T12:20:45.838606Z",
     "iopub.status.idle": "2022-01-20T12:20:45.849310Z",
     "shell.execute_reply": "2022-01-20T12:20:45.848411Z",
     "shell.execute_reply.started": "2022-01-20T12:20:45.838813Z"
    }
   },
   "outputs": [
    {
     "name": "stdout",
     "output_type": "stream",
     "text": [
      "Model: \"sequential_1\"\n",
      "_________________________________________________________________\n",
      "Layer (type)                 Output Shape              Param #   \n",
      "=================================================================\n",
      "conv2d_1 (Conv2D)            (None, 100, 100, 32)      896       \n",
      "_________________________________________________________________\n",
      "max_pooling2d_1 (MaxPooling2 (None, 50, 50, 32)        0         \n",
      "_________________________________________________________________\n",
      "conv2d_2 (Conv2D)            (None, 50, 50, 64)        18496     \n",
      "_________________________________________________________________\n",
      "max_pooling2d_2 (MaxPooling2 (None, 25, 25, 64)        0         \n",
      "_________________________________________________________________\n",
      "conv2d_3 (Conv2D)            (None, 25, 25, 128)       73856     \n",
      "_________________________________________________________________\n",
      "max_pooling2d_3 (MaxPooling2 (None, 12, 12, 128)       0         \n",
      "_________________________________________________________________\n",
      "conv2d_4 (Conv2D)            (None, 12, 12, 256)       295168    \n",
      "_________________________________________________________________\n",
      "max_pooling2d_4 (MaxPooling2 (None, 6, 6, 256)         0         \n",
      "_________________________________________________________________\n",
      "flatten_1 (Flatten)          (None, 9216)              0         \n",
      "_________________________________________________________________\n",
      "dense_1 (Dense)              (None, 12)                110604    \n",
      "=================================================================\n",
      "Total params: 499,020\n",
      "Trainable params: 499,020\n",
      "Non-trainable params: 0\n",
      "_________________________________________________________________\n",
      "None\n"
     ]
    }
   ],
   "source": [
    "print(cnn_model.summary())"
   ]
  },
  {
   "cell_type": "code",
   "execution_count": 30,
   "metadata": {
    "execution": {
     "iopub.execute_input": "2022-01-20T12:20:45.850671Z",
     "iopub.status.busy": "2022-01-20T12:20:45.850388Z",
     "iopub.status.idle": "2022-01-20T12:20:45.935054Z",
     "shell.execute_reply": "2022-01-20T12:20:45.934485Z",
     "shell.execute_reply.started": "2022-01-20T12:20:45.850611Z"
    }
   },
   "outputs": [],
   "source": [
    "cnn_model.compile(loss=LOSS_FUNCTION, optimizer=OPTIMIZER, metrics=[\"accuracy\"])"
   ]
  },
  {
   "cell_type": "markdown",
   "metadata": {},
   "source": [
    "### Treina o modelo"
   ]
  },
  {
   "cell_type": "code",
   "execution_count": 31,
   "metadata": {
    "execution": {
     "iopub.execute_input": "2022-01-20T12:20:45.936866Z",
     "iopub.status.busy": "2022-01-20T12:20:45.936462Z",
     "iopub.status.idle": "2022-01-20T12:24:48.321221Z",
     "shell.execute_reply": "2022-01-20T12:24:48.320442Z",
     "shell.execute_reply.started": "2022-01-20T12:20:45.936703Z"
    }
   },
   "outputs": [
    {
     "name": "stdout",
     "output_type": "stream",
     "text": [
      "Train on 14905 samples, validate on 3727 samples\n",
      "Epoch 1/10\n",
      "14905/14905 [==============================] - 26s 2ms/step - loss: 1.4805 - accuracy: 0.4586 - val_loss: 1.0454 - val_accuracy: 0.6329\n",
      "Epoch 2/10\n",
      "14905/14905 [==============================] - 24s 2ms/step - loss: 0.9355 - accuracy: 0.6872 - val_loss: 0.8216 - val_accuracy: 0.7354\n",
      "Epoch 3/10\n",
      "14905/14905 [==============================] - 24s 2ms/step - loss: 0.7235 - accuracy: 0.7613 - val_loss: 0.8030 - val_accuracy: 0.7489\n",
      "Epoch 4/10\n",
      "14905/14905 [==============================] - 24s 2ms/step - loss: 0.6130 - accuracy: 0.7926 - val_loss: 0.7262 - val_accuracy: 0.7797\n",
      "Epoch 5/10\n",
      "14905/14905 [==============================] - 24s 2ms/step - loss: 0.5165 - accuracy: 0.8247 - val_loss: 0.8177 - val_accuracy: 0.7733\n",
      "Epoch 6/10\n",
      "14905/14905 [==============================] - 24s 2ms/step - loss: 0.4116 - accuracy: 0.8596 - val_loss: 0.8290 - val_accuracy: 0.7821\n",
      "Epoch 7/10\n",
      "14905/14905 [==============================] - 25s 2ms/step - loss: 0.3164 - accuracy: 0.8921 - val_loss: 0.9845 - val_accuracy: 0.7773\n",
      "Epoch 8/10\n",
      "14905/14905 [==============================] - 24s 2ms/step - loss: 0.2436 - accuracy: 0.9145 - val_loss: 1.1657 - val_accuracy: 0.7234\n",
      "Epoch 9/10\n",
      "14905/14905 [==============================] - 24s 2ms/step - loss: 0.1928 - accuracy: 0.9309 - val_loss: 1.3275 - val_accuracy: 0.7725\n",
      "Epoch 10/10\n",
      "14905/14905 [==============================] - 24s 2ms/step - loss: 0.1784 - accuracy: 0.9384 - val_loss: 1.2228 - val_accuracy: 0.7620\n",
      "Tempo de treino:  246.85043144226074\n"
     ]
    }
   ],
   "source": [
    "start = time.time()\n",
    "cnn_histoy = cnn_model.fit(X_train, Y_train, batch_size=BATCH_SIZE, epochs=EPOCHS, verbose=1, validation_data=(X_test, Y_test))\n",
    "end = time.time()\n",
    "elapsed = end - start\n",
    "print(\"Tempo de treino: \", elapsed)"
   ]
  },
  {
   "cell_type": "markdown",
   "metadata": {},
   "source": [
    "### Exibe as métricas de avaliação do modelo"
   ]
  },
  {
   "cell_type": "code",
   "execution_count": 32,
   "metadata": {
    "execution": {
     "iopub.execute_input": "2022-01-20T12:24:48.327555Z",
     "iopub.status.busy": "2022-01-20T12:24:48.327329Z",
     "iopub.status.idle": "2022-01-20T12:24:49.180010Z",
     "shell.execute_reply": "2022-01-20T12:24:49.179191Z",
     "shell.execute_reply.started": "2022-01-20T12:24:48.327512Z"
    }
   },
   "outputs": [
    {
     "name": "stdout",
     "output_type": "stream",
     "text": [
      "Precisão do modelo:  0.7449833140146279\n",
      "Revocação do modelo:  0.7590555406493158\n",
      "F-medida:  0.7494378373600334\n",
      "Acurácia:  0.7590555406493158\n",
      "Acurácia balanceada:  0.4064202729275888\n"
     ]
    }
   ],
   "source": [
    "print_metrics(cnn_model, X_test, Y_test)"
   ]
  },
  {
   "cell_type": "code",
   "execution_count": 33,
   "metadata": {
    "execution": {
     "iopub.execute_input": "2022-01-20T12:24:49.183081Z",
     "iopub.status.busy": "2022-01-20T12:24:49.182639Z",
     "iopub.status.idle": "2022-01-20T12:24:50.841991Z",
     "shell.execute_reply": "2022-01-20T12:24:50.841318Z",
     "shell.execute_reply.started": "2022-01-20T12:24:49.183025Z"
    }
   },
   "outputs": [
    {
     "name": "stdout",
     "output_type": "stream",
     "text": [
      "classe healthy, com 964 ocorrências:\n"
     ]
    },
    {
     "name": "stderr",
     "output_type": "stream",
     "text": [
      "/opt/conda/lib/python3.6/site-packages/sklearn/metrics/classification.py:1439: UndefinedMetricWarning: Recall is ill-defined and being set to 0.0 in labels with no true samples.\n",
      "  'recall', 'true', average, warn_for)\n",
      "/opt/conda/lib/python3.6/site-packages/sklearn/metrics/classification.py:1439: UndefinedMetricWarning: F-score is ill-defined and being set to 0.0 in labels with no true samples.\n",
      "  'recall', 'true', average, warn_for)\n",
      "/opt/conda/lib/python3.6/site-packages/sklearn/metrics/classification.py:1745: UserWarning: y_pred contains classes not in y_true\n",
      "  warnings.warn('y_pred contains classes not in y_true')\n",
      "/opt/conda/lib/python3.6/site-packages/sklearn/metrics/classification.py:1437: UndefinedMetricWarning: Precision is ill-defined and being set to 0.0 in labels with no predicted samples.\n",
      "  'precision', 'predicted', average, warn_for)\n",
      "/opt/conda/lib/python3.6/site-packages/sklearn/metrics/classification.py:1437: UndefinedMetricWarning: F-score is ill-defined and being set to 0.0 in labels with no predicted samples.\n",
      "  'precision', 'predicted', average, warn_for)\n"
     ]
    },
    {
     "name": "stdout",
     "output_type": "stream",
     "text": [
      "Precisão do modelo:  1.0\n",
      "Revocação do modelo:  0.8454356846473029\n",
      "F-medida:  0.9162450815064642\n",
      "Acurácia:  0.8454356846473029\n",
      "Acurácia balanceada:  0.8454356846473029\n",
      "-----------------------------\n",
      "\n",
      "classe scab frog_eye_leaf_spot, com 135 ocorrências:\n",
      "Precisão do modelo:  1.0\n",
      "Revocação do modelo:  0.15555555555555556\n",
      "F-medida:  0.2692307692307693\n",
      "Acurácia:  0.15555555555555556\n",
      "Acurácia balanceada:  0.15555555555555556\n",
      "-----------------------------\n",
      "\n",
      "classe scab frog_eye_leaf_spot complex, com 35 ocorrências:\n",
      "Precisão do modelo:  1.0\n",
      "Revocação do modelo:  0.02857142857142857\n",
      "F-medida:  0.05555555555555556\n",
      "Acurácia:  0.02857142857142857\n",
      "Acurácia balanceada:  0.02857142857142857\n",
      "-----------------------------\n",
      "\n",
      "classe powdery_mildew complex, com 11 ocorrências:\n",
      "Precisão do modelo:  0.0\n",
      "Revocação do modelo:  0.0\n",
      "F-medida:  0.0\n",
      "Acurácia:  0.0\n",
      "Acurácia balanceada:  0.0\n",
      "-----------------------------\n",
      "\n",
      "classe scab, com 942 ocorrências:\n",
      "Precisão do modelo:  1.0\n",
      "Revocação do modelo:  0.8439490445859873\n",
      "F-medida:  0.915371329879102\n",
      "Acurácia:  0.8439490445859873\n",
      "Acurácia balanceada:  0.8439490445859873\n",
      "-----------------------------\n",
      "\n",
      "classe frog_eye_leaf_spot, com 640 ocorrências:\n",
      "Precisão do modelo:  1.0\n",
      "Revocação do modelo:  0.875\n",
      "F-medida:  0.9333333333333333\n",
      "Acurácia:  0.875\n",
      "Acurácia balanceada:  0.875\n",
      "-----------------------------\n",
      "\n",
      "classe frog_eye_leaf_spot complex, com 33 ocorrências:\n",
      "Precisão do modelo:  1.0\n",
      "Revocação do modelo:  0.030303030303030304\n",
      "F-medida:  0.05882352941176471\n",
      "Acurácia:  0.030303030303030304\n",
      "Acurácia balanceada:  0.030303030303030304\n",
      "-----------------------------\n",
      "\n",
      "classe complex, com 313 ocorrências:\n",
      "Precisão do modelo:  1.0\n",
      "Revocação do modelo:  0.4984025559105431\n",
      "F-medida:  0.6652452025586354\n",
      "Acurácia:  0.4984025559105431\n",
      "Acurácia balanceada:  0.4984025559105431\n",
      "-----------------------------\n",
      "\n",
      "classe rust, com 366 ocorrências:\n",
      "Precisão do modelo:  1.0\n",
      "Revocação do modelo:  0.8278688524590164\n",
      "F-medida:  0.9058295964125561\n",
      "Acurácia:  0.8278688524590164\n",
      "Acurácia balanceada:  0.8278688524590164\n",
      "-----------------------------\n",
      "\n",
      "classe powdery_mildew, com 241 ocorrências:\n",
      "Precisão do modelo:  1.0\n",
      "Revocação do modelo:  0.7302904564315352\n",
      "F-medida:  0.8441247002398081\n",
      "Acurácia:  0.7302904564315352\n",
      "Acurácia balanceada:  0.7302904564315352\n",
      "-----------------------------\n",
      "\n",
      "classe rust frog_eye_leaf_spot, com 24 ocorrências:\n",
      "Precisão do modelo:  1.0\n",
      "Revocação do modelo:  0.041666666666666664\n",
      "F-medida:  0.07999999999999999\n",
      "Acurácia:  0.041666666666666664\n",
      "Acurácia balanceada:  0.041666666666666664\n",
      "-----------------------------\n",
      "\n",
      "classe rust complex, com 23 ocorrências:\n",
      "Precisão do modelo:  0.0\n",
      "Revocação do modelo:  0.0\n",
      "F-medida:  0.0\n",
      "Acurácia:  0.0\n",
      "Acurácia balanceada:  0.0\n",
      "-----------------------------\n",
      "\n"
     ]
    }
   ],
   "source": [
    "print_metrics_per_class(X_test, Y_test, labels_converter, cnn_model)"
   ]
  },
  {
   "cell_type": "markdown",
   "metadata": {},
   "source": [
    "### Exibe os gráficos das métricas do modelo"
   ]
  },
  {
   "cell_type": "code",
   "execution_count": 34,
   "metadata": {
    "execution": {
     "iopub.execute_input": "2022-01-20T12:24:50.845209Z",
     "iopub.status.busy": "2022-01-20T12:24:50.844948Z",
     "iopub.status.idle": "2022-01-20T12:24:50.851156Z",
     "shell.execute_reply": "2022-01-20T12:24:50.850567Z",
     "shell.execute_reply.started": "2022-01-20T12:24:50.845144Z"
    }
   },
   "outputs": [],
   "source": [
    "history_plot = HistoryPlot(cnn_histoy, cnn_model)"
   ]
  },
  {
   "cell_type": "code",
   "execution_count": 35,
   "metadata": {
    "execution": {
     "iopub.execute_input": "2022-01-20T12:24:50.852899Z",
     "iopub.status.busy": "2022-01-20T12:24:50.852473Z",
     "iopub.status.idle": "2022-01-20T12:24:50.997396Z",
     "shell.execute_reply": "2022-01-20T12:24:50.996582Z",
     "shell.execute_reply.started": "2022-01-20T12:24:50.852739Z"
    }
   },
   "outputs": [
    {
     "data": {
      "image/png": "[encoded data removed]",
      "text/plain": [
       "<Figure size 432x288 with 1 Axes>"
      ]
     },
     "metadata": {
      "needs_background": "light"
     },
     "output_type": "display_data"
    }
   ],
   "source": [
    "history_plot.plot_loss()"
   ]
  },
  {
   "cell_type": "code",
   "execution_count": 36,
   "metadata": {
    "execution": {
     "iopub.execute_input": "2022-01-20T12:24:50.998959Z",
     "iopub.status.busy": "2022-01-20T12:24:50.998703Z",
     "iopub.status.idle": "2022-01-20T12:24:51.129874Z",
     "shell.execute_reply": "2022-01-20T12:24:51.128874Z",
     "shell.execute_reply.started": "2022-01-20T12:24:50.998916Z"
    }
   },
   "outputs": [
    {
     "data": {
      "image/png": "[encoded data removed]",
      "text/plain": [
       "<Figure size 432x288 with 1 Axes>"
      ]
     },
     "metadata": {
      "needs_background": "light"
     },
     "output_type": "display_data"
    }
   ],
   "source": [
    "history_plot.plot_accuracy()"
   ]
  },
  {
   "cell_type": "code",
   "execution_count": 37,
   "metadata": {
    "execution": {
     "iopub.execute_input": "2022-01-20T12:24:51.132107Z",
     "iopub.status.busy": "2022-01-20T12:24:51.131591Z",
     "iopub.status.idle": "2022-01-20T12:24:52.095148Z",
     "shell.execute_reply": "2022-01-20T12:24:52.094393Z",
     "shell.execute_reply.started": "2022-01-20T12:24:51.131840Z"
    }
   },
   "outputs": [
    {
     "name": "stdout",
     "output_type": "stream",
     "text": [
      "Perda de treino do modelo:  0.17839579538412276\n",
      "Acurácia de treino do modelo:  0.9384099\n",
      "Perda de teste do modelo: 1.2227671919158165\n",
      "Acurácia de teste do modelo: 0.7620069980621338\n"
     ]
    },
    {
     "data": {
      "image/png": "[encoded data removed]",
      "text/plain": [
       "<Figure size 432x288 with 1 Axes>"
      ]
     },
     "metadata": {
      "needs_background": "light"
     },
     "output_type": "display_data"
    }
   ],
   "source": [
    "history_plot.plot_loss_accuracy(X_test, Y_test)"
   ]
  },
  {
   "cell_type": "markdown",
   "metadata": {},
   "source": [
    "# MOBILE NET"
   ]
  },
  {
   "cell_type": "code",
   "execution_count": 38,
   "metadata": {
    "execution": {
     "iopub.execute_input": "2022-01-20T12:24:52.101488Z",
     "iopub.status.busy": "2022-01-20T12:24:52.099087Z",
     "iopub.status.idle": "2022-01-20T12:24:57.373840Z",
     "shell.execute_reply": "2022-01-20T12:24:57.372936Z",
     "shell.execute_reply.started": "2022-01-20T12:24:52.101436Z"
    }
   },
   "outputs": [
    {
     "name": "stderr",
     "output_type": "stream",
     "text": [
      "/opt/conda/lib/python3.6/site-packages/keras_applications/mobilenet.py:207: UserWarning: `input_shape` is undefined or non-square, or `rows` is not in [128, 160, 192, 224]. Weights for input shape (224, 224) will be loaded as the default.\n",
      "  warnings.warn('`input_shape` is undefined or non-square, '\n"
     ]
    },
    {
     "name": "stdout",
     "output_type": "stream",
     "text": [
      "Downloading data from https://github.com/fchollet/deep-learning-models/releases/download/v0.6/mobilenet_1_0_224_tf_no_top.h5\n",
      "17227776/17225924 [==============================] - 1s 0us/step\n"
     ]
    }
   ],
   "source": [
    "# Create the base model from the pre-trained model MobileNet\n",
    "base_model = tf.keras.applications.MobileNet(input_shape=IMG_SHAPE,\n",
    "                                             include_top=False,\n",
    "                                             weights='imagenet')\n",
    "\n",
    "base_model.trainable = False #Freeze the convolutional base"
   ]
  },
  {
   "cell_type": "code",
   "execution_count": 39,
   "metadata": {
    "execution": {
     "iopub.execute_input": "2022-01-20T12:24:57.375747Z",
     "iopub.status.busy": "2022-01-20T12:24:57.375422Z",
     "iopub.status.idle": "2022-01-20T12:24:58.489947Z",
     "shell.execute_reply": "2022-01-20T12:24:58.489024Z",
     "shell.execute_reply.started": "2022-01-20T12:24:57.375701Z"
    }
   },
   "outputs": [
    {
     "name": "stdout",
     "output_type": "stream",
     "text": [
      "Model: \"sequential\"\n",
      "_________________________________________________________________\n",
      "Layer (type)                 Output Shape              Param #   \n",
      "=================================================================\n",
      "mobilenet_1.00_224 (Model)   (None, 3, 3, 1024)        3228864   \n",
      "_________________________________________________________________\n",
      "global_average_pooling2d (Gl (None, 1024)              0         \n",
      "_________________________________________________________________\n",
      "dense (Dense)                (None, 12)                12300     \n",
      "=================================================================\n",
      "Total params: 3,241,164\n",
      "Trainable params: 12,300\n",
      "Non-trainable params: 3,228,864\n",
      "_________________________________________________________________\n"
     ]
    }
   ],
   "source": [
    "mobile_net_model = tf.keras.Sequential([\n",
    "  base_model,\n",
    "  tf.keras.layers.GlobalAveragePooling2D(),\n",
    "  tf.keras.layers.Dense(NUM_LABELS, activation='sigmoid')\n",
    "])\n",
    "\n",
    "mobile_net_model.summary()"
   ]
  },
  {
   "cell_type": "code",
   "execution_count": 40,
   "metadata": {
    "execution": {
     "iopub.execute_input": "2022-01-20T12:24:58.491565Z",
     "iopub.status.busy": "2022-01-20T12:24:58.491299Z",
     "iopub.status.idle": "2022-01-20T12:24:58.557436Z",
     "shell.execute_reply": "2022-01-20T12:24:58.556846Z",
     "shell.execute_reply.started": "2022-01-20T12:24:58.491520Z"
    }
   },
   "outputs": [],
   "source": [
    "mobile_net_model.compile(loss='categorical_crossentropy', optimizer='Adam', metrics=[\"accuracy\"])"
   ]
  },
  {
   "cell_type": "code",
   "execution_count": 41,
   "metadata": {
    "execution": {
     "iopub.execute_input": "2022-01-20T12:24:58.559454Z",
     "iopub.status.busy": "2022-01-20T12:24:58.559043Z",
     "iopub.status.idle": "2022-01-20T12:29:10.038608Z",
     "shell.execute_reply": "2022-01-20T12:29:10.037702Z",
     "shell.execute_reply.started": "2022-01-20T12:24:58.559294Z"
    }
   },
   "outputs": [
    {
     "name": "stdout",
     "output_type": "stream",
     "text": [
      "Train on 14905 samples, validate on 3727 samples\n",
      "Epoch 1/10\n",
      "14905/14905 [==============================] - 27s 2ms/sample - loss: 1.8153 - acc: 0.3260 - val_loss: 2.1479 - val_acc: 0.3775\n",
      "Epoch 2/10\n",
      "14905/14905 [==============================] - 25s 2ms/sample - loss: 1.6973 - acc: 0.4293 - val_loss: 2.1538 - val_acc: 0.3982\n",
      "Epoch 3/10\n",
      "14905/14905 [==============================] - 24s 2ms/sample - loss: 1.6905 - acc: 0.4579 - val_loss: 2.1615 - val_acc: 0.4089\n",
      "Epoch 4/10\n",
      "14905/14905 [==============================] - 25s 2ms/sample - loss: 1.6775 - acc: 0.4538 - val_loss: 2.1409 - val_acc: 0.4022\n",
      "Epoch 5/10\n",
      "14905/14905 [==============================] - 25s 2ms/sample - loss: 1.6788 - acc: 0.4596 - val_loss: 2.1996 - val_acc: 0.4124\n",
      "Epoch 6/10\n",
      "14905/14905 [==============================] - 25s 2ms/sample - loss: 1.6809 - acc: 0.4592 - val_loss: 2.2636 - val_acc: 0.3807\n",
      "Epoch 7/10\n",
      "14905/14905 [==============================] - 25s 2ms/sample - loss: 1.6777 - acc: 0.4587 - val_loss: 2.3423 - val_acc: 0.3947\n",
      "Epoch 8/10\n",
      "14905/14905 [==============================] - 25s 2ms/sample - loss: 1.6823 - acc: 0.4633 - val_loss: 2.0801 - val_acc: 0.4132\n",
      "Epoch 9/10\n",
      "14905/14905 [==============================] - 25s 2ms/sample - loss: 1.6955 - acc: 0.4528 - val_loss: 2.1010 - val_acc: 0.4135\n",
      "Epoch 10/10\n",
      "14905/14905 [==============================] - 25s 2ms/sample - loss: 1.6843 - acc: 0.4585 - val_loss: 2.1355 - val_acc: 0.4156\n",
      "Tempo de treino:  251.1187891960144\n"
     ]
    }
   ],
   "source": [
    "epochs = 10\n",
    "\n",
    "start = time.time()\n",
    "mobile_net_history = mobile_net_model.fit(X_train, Y_train, epochs=epochs, batch_size=4, verbose=1, validation_data=(X_test, Y_test))\n",
    "end = time.time()\n",
    "\n",
    "elapsed = end - start\n",
    "print(\"Tempo de treino: \", elapsed)"
   ]
  },
  {
   "cell_type": "markdown",
   "metadata": {},
   "source": [
    "### Exibe as métricas de avaliação do modelo"
   ]
  },
  {
   "cell_type": "code",
   "execution_count": 42,
   "metadata": {
    "execution": {
     "iopub.execute_input": "2022-01-20T12:29:10.040454Z",
     "iopub.status.busy": "2022-01-20T12:29:10.040173Z",
     "iopub.status.idle": "2022-01-20T12:29:11.929703Z",
     "shell.execute_reply": "2022-01-20T12:29:11.928789Z",
     "shell.execute_reply.started": "2022-01-20T12:29:10.040398Z"
    }
   },
   "outputs": [
    {
     "name": "stdout",
     "output_type": "stream",
     "text": [
      "Precisão do modelo:  0.40196475957542405\n",
      "Revocação do modelo:  0.18755030855916285\n",
      "F-medida:  0.13715837031674769\n",
      "Acurácia:  0.18755030855916285\n",
      "Acurácia balanceada:  0.12067790506628238\n"
     ]
    }
   ],
   "source": [
    "print_metrics(mobile_net_model, X_test, Y_test)"
   ]
  },
  {
   "cell_type": "code",
   "execution_count": 43,
   "metadata": {
    "execution": {
     "iopub.execute_input": "2022-01-20T12:29:11.932666Z",
     "iopub.status.busy": "2022-01-20T12:29:11.932024Z",
     "iopub.status.idle": "2022-01-20T12:29:14.167942Z",
     "shell.execute_reply": "2022-01-20T12:29:14.167264Z",
     "shell.execute_reply.started": "2022-01-20T12:29:11.932610Z"
    }
   },
   "outputs": [
    {
     "name": "stdout",
     "output_type": "stream",
     "text": [
      "classe healthy, com 964 ocorrências:\n",
      "Precisão do modelo:  1.0\n",
      "Revocação do modelo:  0.10062240663900415\n",
      "F-medida:  0.1828463713477851\n",
      "Acurácia:  0.10062240663900415\n",
      "Acurácia balanceada:  0.10062240663900415\n",
      "-----------------------------\n",
      "\n",
      "classe scab frog_eye_leaf_spot, com 135 ocorrências:\n",
      "Precisão do modelo:  0.0\n",
      "Revocação do modelo:  0.0\n",
      "F-medida:  0.0\n",
      "Acurácia:  0.0\n",
      "Acurácia balanceada:  0.0\n",
      "-----------------------------\n",
      "\n",
      "classe scab frog_eye_leaf_spot complex, com 35 ocorrências:\n",
      "Precisão do modelo:  0.0\n",
      "Revocação do modelo:  0.0\n",
      "F-medida:  0.0\n",
      "Acurácia:  0.0\n",
      "Acurácia balanceada:  0.0\n",
      "-----------------------------\n",
      "\n",
      "classe powdery_mildew complex, com 11 ocorrências:\n",
      "Precisão do modelo:  0.0\n",
      "Revocação do modelo:  0.0\n",
      "F-medida:  0.0\n",
      "Acurácia:  0.0\n",
      "Acurácia balanceada:  0.0\n",
      "-----------------------------\n",
      "\n",
      "classe scab, com 942 ocorrências:\n",
      "Precisão do modelo:  1.0\n",
      "Revocação do modelo:  0.014861995753715499\n",
      "F-medida:  0.029288702928870293\n",
      "Acurácia:  0.014861995753715499\n",
      "Acurácia balanceada:  0.014861995753715499\n",
      "-----------------------------\n",
      "\n",
      "classe frog_eye_leaf_spot, com 640 ocorrências:\n",
      "Precisão do modelo:  1.0\n",
      "Revocação do modelo:  0.56875\n",
      "F-medida:  0.7250996015936254\n",
      "Acurácia:  0.56875\n",
      "Acurácia balanceada:  0.56875\n",
      "-----------------------------\n",
      "\n",
      "classe frog_eye_leaf_spot complex, com 33 ocorrências:\n",
      "Precisão do modelo:  0.0\n",
      "Revocação do modelo:  0.0\n",
      "F-medida:  0.0\n",
      "Acurácia:  0.0\n",
      "Acurácia balanceada:  0.0\n",
      "-----------------------------\n",
      "\n",
      "classe complex, com 313 ocorrências:\n",
      "Precisão do modelo:  1.0\n",
      "Revocação do modelo:  0.5399361022364217\n",
      "F-medida:  0.7012448132780084\n",
      "Acurácia:  0.5399361022364217\n",
      "Acurácia balanceada:  0.5399361022364217\n",
      "-----------------------------\n",
      "\n",
      "classe rust, com 366 ocorrências:\n",
      "Precisão do modelo:  1.0\n",
      "Revocação do modelo:  0.00819672131147541\n",
      "F-medida:  0.016260162601626018\n",
      "Acurácia:  0.00819672131147541\n",
      "Acurácia balanceada:  0.00819672131147541\n",
      "-----------------------------\n",
      "\n",
      "classe powdery_mildew, com 241 ocorrências:\n",
      "Precisão do modelo:  1.0\n",
      "Revocação do modelo:  0.2157676348547718\n",
      "F-medida:  0.35494880546075086\n",
      "Acurácia:  0.2157676348547718\n",
      "Acurácia balanceada:  0.2157676348547718\n",
      "-----------------------------\n",
      "\n",
      "classe rust frog_eye_leaf_spot, com 24 ocorrências:\n",
      "Precisão do modelo:  0.0\n",
      "Revocação do modelo:  0.0\n",
      "F-medida:  0.0\n",
      "Acurácia:  0.0\n",
      "Acurácia balanceada:  0.0\n",
      "-----------------------------\n",
      "\n",
      "classe rust complex, com 23 ocorrências:\n",
      "Precisão do modelo:  0.0\n",
      "Revocação do modelo:  0.0\n",
      "F-medida:  0.0\n",
      "Acurácia:  0.0\n",
      "Acurácia balanceada:  0.0\n",
      "-----------------------------\n",
      "\n"
     ]
    }
   ],
   "source": [
    "print_metrics_per_class(X_test, Y_test, labels_converter, mobile_net_model)"
   ]
  },
  {
   "cell_type": "markdown",
   "metadata": {},
   "source": [
    "### Exibe os gráficos das métricas do modelo"
   ]
  },
  {
   "cell_type": "code",
   "execution_count": 44,
   "metadata": {
    "execution": {
     "iopub.execute_input": "2022-01-20T12:29:14.171406Z",
     "iopub.status.busy": "2022-01-20T12:29:14.171148Z",
     "iopub.status.idle": "2022-01-20T12:29:14.177155Z",
     "shell.execute_reply": "2022-01-20T12:29:14.176488Z",
     "shell.execute_reply.started": "2022-01-20T12:29:14.171356Z"
    }
   },
   "outputs": [],
   "source": [
    "history_plot = HistoryPlot(mobile_net_history, mobile_net_model)"
   ]
  },
  {
   "cell_type": "code",
   "execution_count": 45,
   "metadata": {
    "execution": {
     "iopub.execute_input": "2022-01-20T12:29:14.178671Z",
     "iopub.status.busy": "2022-01-20T12:29:14.178381Z",
     "iopub.status.idle": "2022-01-20T12:29:14.318840Z",
     "shell.execute_reply": "2022-01-20T12:29:14.318140Z",
     "shell.execute_reply.started": "2022-01-20T12:29:14.178621Z"
    }
   },
   "outputs": [
    {
     "data": {
      "image/png": "[encoded data removed]",
      "text/plain": [
       "<Figure size 432x288 with 1 Axes>"
      ]
     },
     "metadata": {
      "needs_background": "light"
     },
     "output_type": "display_data"
    }
   ],
   "source": [
    "history_plot.plot_loss()"
   ]
  },
  {
   "cell_type": "code",
   "execution_count": 46,
   "metadata": {
    "execution": {
     "iopub.execute_input": "2022-01-20T12:29:14.320629Z",
     "iopub.status.busy": "2022-01-20T12:29:14.320359Z",
     "iopub.status.idle": "2022-01-20T12:29:14.453792Z",
     "shell.execute_reply": "2022-01-20T12:29:14.453077Z",
     "shell.execute_reply.started": "2022-01-20T12:29:14.320583Z"
    }
   },
   "outputs": [
    {
     "data": {
      "image/png": "[encoded data removed]",
      "text/plain": [
       "<Figure size 432x288 with 1 Axes>"
      ]
     },
     "metadata": {
      "needs_background": "light"
     },
     "output_type": "display_data"
    }
   ],
   "source": [
    "history_plot.plot_accuracy()"
   ]
  },
  {
   "cell_type": "code",
   "execution_count": 47,
   "metadata": {
    "execution": {
     "iopub.execute_input": "2022-01-20T12:29:14.455824Z",
     "iopub.status.busy": "2022-01-20T12:29:14.455391Z",
     "iopub.status.idle": "2022-01-20T12:29:15.610008Z",
     "shell.execute_reply": "2022-01-20T12:29:15.608178Z",
     "shell.execute_reply.started": "2022-01-20T12:29:14.455777Z"
    }
   },
   "outputs": [
    {
     "name": "stdout",
     "output_type": "stream",
     "text": [
      "Perda de treino do modelo:  1.6842879893435043\n",
      "Acurácia de treino do modelo:  0.45850387\n",
      "Perda de teste do modelo: 2.1356090253180526\n",
      "Acurácia de teste do modelo: 0.41561577\n"
     ]
    },
    {
     "data": {
      "image/png": "[encoded data removed]",
      "text/plain": [
       "<Figure size 432x288 with 1 Axes>"
      ]
     },
     "metadata": {
      "needs_background": "light"
     },
     "output_type": "display_data"
    }
   ],
   "source": [
    "history_plot.plot_loss_accuracy(X_test, Y_test)"
   ]
  },
  {
   "cell_type": "markdown",
   "metadata": {},
   "source": [
    "## Libera memória para os próximos modelos"
   ]
  },
  {
   "cell_type": "code",
   "execution_count": 48,
   "metadata": {
    "execution": {
     "iopub.execute_input": "2022-01-20T12:29:15.611936Z",
     "iopub.status.busy": "2022-01-20T12:29:15.611587Z",
     "iopub.status.idle": "2022-01-20T12:29:15.932035Z",
     "shell.execute_reply": "2022-01-20T12:29:15.930856Z",
     "shell.execute_reply.started": "2022-01-20T12:29:15.611876Z"
    }
   },
   "outputs": [],
   "source": [
    "dt_proc = 0\n",
    "y = 0\n",
    "y_encoded = 0\n",
    "y_categorical = 0\n",
    "X_train = 0\n",
    "X_test = 0\n",
    "Y_train = 0\n",
    "Y_test = 0\n",
    "\n",
    "cnn_model = 0\n",
    "cnn_history = 0\n",
    "mobile_net_model = 0\n",
    "mobile_net_history = 0 "
   ]
  },
  {
   "cell_type": "markdown",
   "metadata": {},
   "source": [
    "# Image Data Generator"
   ]
  },
  {
   "cell_type": "markdown",
   "metadata": {},
   "source": [
    "## Preparação dos dados"
   ]
  },
  {
   "cell_type": "code",
   "execution_count": 49,
   "metadata": {
    "execution": {
     "iopub.execute_input": "2022-01-20T12:29:15.934256Z",
     "iopub.status.busy": "2022-01-20T12:29:15.933667Z",
     "iopub.status.idle": "2022-01-20T12:29:15.941755Z",
     "shell.execute_reply": "2022-01-20T12:29:15.941099Z",
     "shell.execute_reply.started": "2022-01-20T12:29:15.934196Z"
    }
   },
   "outputs": [],
   "source": [
    "HEIGHT = 448\n",
    "WIDTH = 448\n",
    "BATCH_SIZE = 32\n",
    "SEED = 42\n",
    "NUM_LABELS = 6"
   ]
  },
  {
   "cell_type": "code",
   "execution_count": 50,
   "metadata": {
    "execution": {
     "iopub.execute_input": "2022-01-20T12:29:15.945180Z",
     "iopub.status.busy": "2022-01-20T12:29:15.944938Z",
     "iopub.status.idle": "2022-01-20T12:29:15.986187Z",
     "shell.execute_reply": "2022-01-20T12:29:15.985632Z",
     "shell.execute_reply.started": "2022-01-20T12:29:15.945134Z"
    }
   },
   "outputs": [],
   "source": [
    "train = pd.read_csv(train_path)\n",
    "test = pd.read_csv(test_path)"
   ]
  },
  {
   "cell_type": "code",
   "execution_count": 51,
   "metadata": {
    "execution": {
     "iopub.execute_input": "2022-01-20T12:29:15.989219Z",
     "iopub.status.busy": "2022-01-20T12:29:15.988974Z",
     "iopub.status.idle": "2022-01-20T12:29:16.067372Z",
     "shell.execute_reply": "2022-01-20T12:29:16.066361Z",
     "shell.execute_reply.started": "2022-01-20T12:29:15.989173Z"
    }
   },
   "outputs": [
    {
     "name": "stdout",
     "output_type": "stream",
     "text": [
      "Index(['complex', 'frog_eye_leaf_spot', 'healthy', 'powdery_mildew', 'rust',\n",
      "       'scab'],\n",
      "      dtype='object')\n"
     ]
    }
   ],
   "source": [
    "y = train['labels']\n",
    "train_X, test_X, train_y, test_y = train_test_split(train, y, test_size=0.1, random_state=42, stratify=y)\n",
    "\n",
    "y = train['labels']\n",
    "mlb = MultiLabelBinarizer()\n",
    "encoded = mlb.fit_transform(y.apply(lambda cat: cat.split(' ')))\n",
    "labels = pd.DataFrame(encoded, columns=mlb.classes_, index=train.index)\n",
    "\n",
    "print(labels.columns)"
   ]
  },
  {
   "cell_type": "code",
   "execution_count": 52,
   "metadata": {
    "execution": {
     "iopub.execute_input": "2022-01-20T12:29:16.069545Z",
     "iopub.status.busy": "2022-01-20T12:29:16.069029Z",
     "iopub.status.idle": "2022-01-20T12:29:16.086100Z",
     "shell.execute_reply": "2022-01-20T12:29:16.085488Z",
     "shell.execute_reply.started": "2022-01-20T12:29:16.069406Z"
    }
   },
   "outputs": [
    {
     "data": {
      "text/html": [
       "<div>\n",
       "<style scoped>\n",
       "    .dataframe tbody tr th:only-of-type {\n",
       "        vertical-align: middle;\n",
       "    }\n",
       "\n",
       "    .dataframe tbody tr th {\n",
       "        vertical-align: top;\n",
       "    }\n",
       "\n",
       "    .dataframe thead th {\n",
       "        text-align: right;\n",
       "    }\n",
       "</style>\n",
       "<table border=\"1\" class=\"dataframe\">\n",
       "  <thead>\n",
       "    <tr style=\"text-align: right;\">\n",
       "      <th></th>\n",
       "      <th>image</th>\n",
       "      <th>complex</th>\n",
       "      <th>frog_eye_leaf_spot</th>\n",
       "      <th>healthy</th>\n",
       "      <th>powdery_mildew</th>\n",
       "      <th>rust</th>\n",
       "      <th>scab</th>\n",
       "    </tr>\n",
       "  </thead>\n",
       "  <tbody>\n",
       "    <tr>\n",
       "      <td>0</td>\n",
       "      <td>800113bb65efe69e.jpg</td>\n",
       "      <td>0</td>\n",
       "      <td>0</td>\n",
       "      <td>1</td>\n",
       "      <td>0</td>\n",
       "      <td>0</td>\n",
       "      <td>0</td>\n",
       "    </tr>\n",
       "    <tr>\n",
       "      <td>1</td>\n",
       "      <td>8002cb321f8bfcdf.jpg</td>\n",
       "      <td>1</td>\n",
       "      <td>1</td>\n",
       "      <td>0</td>\n",
       "      <td>0</td>\n",
       "      <td>0</td>\n",
       "      <td>1</td>\n",
       "    </tr>\n",
       "    <tr>\n",
       "      <td>2</td>\n",
       "      <td>80070f7fb5e2ccaa.jpg</td>\n",
       "      <td>0</td>\n",
       "      <td>0</td>\n",
       "      <td>0</td>\n",
       "      <td>0</td>\n",
       "      <td>0</td>\n",
       "      <td>1</td>\n",
       "    </tr>\n",
       "    <tr>\n",
       "      <td>3</td>\n",
       "      <td>80077517781fb94f.jpg</td>\n",
       "      <td>0</td>\n",
       "      <td>0</td>\n",
       "      <td>0</td>\n",
       "      <td>0</td>\n",
       "      <td>0</td>\n",
       "      <td>1</td>\n",
       "    </tr>\n",
       "    <tr>\n",
       "      <td>4</td>\n",
       "      <td>800cbf0ff87721f8.jpg</td>\n",
       "      <td>1</td>\n",
       "      <td>0</td>\n",
       "      <td>0</td>\n",
       "      <td>0</td>\n",
       "      <td>0</td>\n",
       "      <td>0</td>\n",
       "    </tr>\n",
       "  </tbody>\n",
       "</table>\n",
       "</div>"
      ],
      "text/plain": [
       "                  image  complex  frog_eye_leaf_spot  healthy  powdery_mildew  \\\n",
       "0  800113bb65efe69e.jpg        0                   0        1               0   \n",
       "1  8002cb321f8bfcdf.jpg        1                   1        0               0   \n",
       "2  80070f7fb5e2ccaa.jpg        0                   0        0               0   \n",
       "3  80077517781fb94f.jpg        0                   0        0               0   \n",
       "4  800cbf0ff87721f8.jpg        1                   0        0               0   \n",
       "\n",
       "   rust  scab  \n",
       "0     0     0  \n",
       "1     0     1  \n",
       "2     0     1  \n",
       "3     0     1  \n",
       "4     0     0  "
      ]
     },
     "execution_count": 52,
     "metadata": {},
     "output_type": "execute_result"
    }
   ],
   "source": [
    "train = pd.concat([train['image'], labels], axis=1)\n",
    "train.head()"
   ]
  },
  {
   "cell_type": "code",
   "execution_count": 53,
   "metadata": {
    "execution": {
     "iopub.execute_input": "2022-01-20T12:29:16.087969Z",
     "iopub.status.busy": "2022-01-20T12:29:16.087576Z",
     "iopub.status.idle": "2022-01-20T12:29:16.097335Z",
     "shell.execute_reply": "2022-01-20T12:29:16.096586Z",
     "shell.execute_reply.started": "2022-01-20T12:29:16.087811Z"
    }
   },
   "outputs": [],
   "source": [
    "train, test = train_test_split(train, test_size=0.1, random_state=SEED, shuffle=True)\n"
   ]
  },
  {
   "cell_type": "markdown",
   "metadata": {},
   "source": [
    "## Configuração dos generators"
   ]
  },
  {
   "cell_type": "code",
   "execution_count": 54,
   "metadata": {
    "execution": {
     "iopub.execute_input": "2022-01-20T12:29:16.101069Z",
     "iopub.status.busy": "2022-01-20T12:29:16.100853Z",
     "iopub.status.idle": "2022-01-20T12:29:16.147043Z",
     "shell.execute_reply": "2022-01-20T12:29:16.146236Z",
     "shell.execute_reply.started": "2022-01-20T12:29:16.101027Z"
    }
   },
   "outputs": [
    {
     "name": "stdout",
     "output_type": "stream",
     "text": [
      "Found 13415 non-validated image filenames.\n"
     ]
    }
   ],
   "source": [
    "train_datagen = ImageDataGenerator(rescale=1/255.,\n",
    "                                   rotation_range=20,\n",
    "                                   width_shift_range=0.2,\n",
    "                                   height_shift_range=0.2,\n",
    "                                   horizontal_flip=True,\n",
    "                                   validation_split=0.2,\n",
    "                                   zoom_range=0.2,\n",
    "                                   shear_range=0.2,\n",
    "                                   vertical_flip=False)\n",
    "\n",
    "train_dataset = train_datagen.flow_from_dataframe(train,\n",
    "                                                  directory=train_image_path,\n",
    "                                                  x_col=\"image\",\n",
    "                                                  y_col=train.columns.tolist()[1:],\n",
    "                                                  target_size=(HEIGHT,WIDTH),\n",
    "                                                  class_mode='raw',\n",
    "                                                  batch_size=BATCH_SIZE,\n",
    "                                                  subset=\"training\",\n",
    "                                                  shuffle=True,\n",
    "                                                  seed=SEED,\n",
    "                                                  validate_filenames=False)"
   ]
  },
  {
   "cell_type": "code",
   "execution_count": 55,
   "metadata": {
    "execution": {
     "iopub.execute_input": "2022-01-20T12:29:16.148598Z",
     "iopub.status.busy": "2022-01-20T12:29:16.148291Z",
     "iopub.status.idle": "2022-01-20T12:29:16.172968Z",
     "shell.execute_reply": "2022-01-20T12:29:16.171167Z",
     "shell.execute_reply.started": "2022-01-20T12:29:16.148539Z"
    }
   },
   "outputs": [
    {
     "name": "stdout",
     "output_type": "stream",
     "text": [
      "Found 3353 non-validated image filenames.\n"
     ]
    }
   ],
   "source": [
    "validation_dataset = train_datagen.flow_from_dataframe(train,\n",
    "                                                       directory=train_image_path,\n",
    "                                                       x_col=\"image\",\n",
    "                                                       y_col=train.columns.tolist()[1:],\n",
    "                                                       target_size=(HEIGHT,WIDTH),\n",
    "                                                       class_mode='raw',\n",
    "                                                       batch_size=BATCH_SIZE,\n",
    "                                                       subset=\"validation\",\n",
    "                                                       shuffle=True,\n",
    "                                                       seed=SEED,\n",
    "                                                       validate_filenames=False)"
   ]
  },
  {
   "cell_type": "code",
   "execution_count": 56,
   "metadata": {
    "execution": {
     "iopub.execute_input": "2022-01-20T12:29:16.175332Z",
     "iopub.status.busy": "2022-01-20T12:29:16.174621Z",
     "iopub.status.idle": "2022-01-20T12:29:16.821024Z",
     "shell.execute_reply": "2022-01-20T12:29:16.820184Z",
     "shell.execute_reply.started": "2022-01-20T12:29:16.175284Z"
    }
   },
   "outputs": [
    {
     "name": "stdout",
     "output_type": "stream",
     "text": [
      "Found 1864 validated image filenames.\n"
     ]
    }
   ],
   "source": [
    "test_datagen = ImageDataGenerator(rescale = 1./255)\n",
    "\n",
    "test_dataset = test_datagen.flow_from_dataframe(test,\n",
    "                                                directory=train_image_path,\n",
    "                                                x_col='image',\n",
    "                                                y_col=None,\n",
    "                                                class_mode=None,\n",
    "                                                shuffle=False,\n",
    "                                                target_size=(HEIGHT,WIDTH))"
   ]
  },
  {
   "cell_type": "markdown",
   "metadata": {},
   "source": [
    "## Models"
   ]
  },
  {
   "cell_type": "markdown",
   "metadata": {},
   "source": [
    "### Model 1: CNN"
   ]
  },
  {
   "cell_type": "code",
   "execution_count": 57,
   "metadata": {
    "execution": {
     "iopub.execute_input": "2022-01-20T12:29:16.822950Z",
     "iopub.status.busy": "2022-01-20T12:29:16.822409Z",
     "iopub.status.idle": "2022-01-20T12:29:16.928956Z",
     "shell.execute_reply": "2022-01-20T12:29:16.928345Z",
     "shell.execute_reply.started": "2022-01-20T12:29:16.822896Z"
    }
   },
   "outputs": [],
   "source": [
    "cnn_model = Sequential()\n",
    "\n",
    "cnn_model.add(Convolution2D(32,(3,3),activation='relu',padding='same',input_shape=(HEIGHT,WIDTH,3)))\n",
    "cnn_model.add(MaxPooling2D(2,2))\n",
    "cnn_model.add(Convolution2D(64,(3,3),activation='relu',padding='same'))\n",
    "cnn_model.add(MaxPooling2D(2,2))\n",
    "cnn_model.add(Convolution2D(128,(3,3),activation='relu',padding='same'))\n",
    "cnn_model.add(MaxPooling2D(2,2))\n",
    "cnn_model.add(Convolution2D(256,(3,3),activation='relu',padding='same'))\n",
    "cnn_model.add(MaxPooling2D(2,2))\n",
    "cnn_model.add(Flatten())\n",
    "cnn_model.add(Dense(NUM_LABELS,activation='softmax'))"
   ]
  },
  {
   "cell_type": "code",
   "execution_count": 58,
   "metadata": {
    "execution": {
     "iopub.execute_input": "2022-01-20T12:29:16.930543Z",
     "iopub.status.busy": "2022-01-20T12:29:16.930250Z",
     "iopub.status.idle": "2022-01-20T12:29:16.939771Z",
     "shell.execute_reply": "2022-01-20T12:29:16.937759Z",
     "shell.execute_reply.started": "2022-01-20T12:29:16.930498Z"
    }
   },
   "outputs": [
    {
     "name": "stdout",
     "output_type": "stream",
     "text": [
      "Model: \"sequential_2\"\n",
      "_________________________________________________________________\n",
      "Layer (type)                 Output Shape              Param #   \n",
      "=================================================================\n",
      "conv2d_5 (Conv2D)            (None, 448, 448, 32)      896       \n",
      "_________________________________________________________________\n",
      "max_pooling2d_5 (MaxPooling2 (None, 224, 224, 32)      0         \n",
      "_________________________________________________________________\n",
      "conv2d_6 (Conv2D)            (None, 224, 224, 64)      18496     \n",
      "_________________________________________________________________\n",
      "max_pooling2d_6 (MaxPooling2 (None, 112, 112, 64)      0         \n",
      "_________________________________________________________________\n",
      "conv2d_7 (Conv2D)            (None, 112, 112, 128)     73856     \n",
      "_________________________________________________________________\n",
      "max_pooling2d_7 (MaxPooling2 (None, 56, 56, 128)       0         \n",
      "_________________________________________________________________\n",
      "conv2d_8 (Conv2D)            (None, 56, 56, 256)       295168    \n",
      "_________________________________________________________________\n",
      "max_pooling2d_8 (MaxPooling2 (None, 28, 28, 256)       0         \n",
      "_________________________________________________________________\n",
      "flatten_2 (Flatten)          (None, 200704)            0         \n",
      "_________________________________________________________________\n",
      "dense_2 (Dense)              (None, 6)                 1204230   \n",
      "=================================================================\n",
      "Total params: 1,592,646\n",
      "Trainable params: 1,592,646\n",
      "Non-trainable params: 0\n",
      "_________________________________________________________________\n",
      "None\n"
     ]
    }
   ],
   "source": [
    "print(cnn_model.summary())"
   ]
  },
  {
   "cell_type": "code",
   "execution_count": 59,
   "metadata": {
    "execution": {
     "iopub.execute_input": "2022-01-20T12:29:16.944736Z",
     "iopub.status.busy": "2022-01-20T12:29:16.941305Z",
     "iopub.status.idle": "2022-01-20T12:29:17.006830Z",
     "shell.execute_reply": "2022-01-20T12:29:17.006065Z",
     "shell.execute_reply.started": "2022-01-20T12:29:16.944693Z"
    }
   },
   "outputs": [],
   "source": [
    "cnn_model.compile(loss='binary_crossentropy', \n",
    "              optimizer='Adam',\n",
    "              metrics=[\"accuracy\"])"
   ]
  },
  {
   "cell_type": "code",
   "execution_count": 60,
   "metadata": {
    "execution": {
     "iopub.execute_input": "2022-01-20T12:29:17.008270Z",
     "iopub.status.busy": "2022-01-20T12:29:17.008015Z",
     "iopub.status.idle": "2022-01-20T12:32:45.989842Z",
     "shell.execute_reply": "2022-01-20T12:32:45.988648Z",
     "shell.execute_reply.started": "2022-01-20T12:29:17.008227Z"
    }
   },
   "outputs": [
    {
     "name": "stdout",
     "output_type": "stream",
     "text": [
      "Epoch 1/10\n",
      "420/420 [==============================] - 846s 2s/step - loss: 0.4434 - accuracy: 0.8181 - val_loss: 0.4235 - val_accuracy: 0.8203\n",
      "Epoch 2/10\n",
      "420/420 [==============================] - 837s 2s/step - loss: 0.4137 - accuracy: 0.8188 - val_loss: 0.3848 - val_accuracy: 0.8210\n",
      "Epoch 3/10\n",
      "420/420 [==============================] - 838s 2s/step - loss: 0.4029 - accuracy: 0.8222 - val_loss: 0.3964 - val_accuracy: 0.8258\n",
      "Epoch 4/10\n",
      "420/420 [==============================] - 840s 2s/step - loss: 0.3898 - accuracy: 0.8262 - val_loss: 0.3784 - val_accuracy: 0.8316\n",
      "Epoch 5/10\n",
      "420/420 [==============================] - 838s 2s/step - loss: 0.3829 - accuracy: 0.8290 - val_loss: 0.3552 - val_accuracy: 0.8326\n",
      "Epoch 6/10\n",
      "420/420 [==============================] - 839s 2s/step - loss: 0.3621 - accuracy: 0.8373 - val_loss: 0.3353 - val_accuracy: 0.8432\n",
      "Epoch 7/10\n",
      "420/420 [==============================] - 836s 2s/step - loss: 0.3265 - accuracy: 0.8541 - val_loss: 0.2476 - val_accuracy: 0.8589\n",
      "Epoch 8/10\n",
      "420/420 [==============================] - 841s 2s/step - loss: 0.3070 - accuracy: 0.8635 - val_loss: 0.2884 - val_accuracy: 0.8652\n",
      "Epoch 9/10\n",
      "420/420 [==============================] - 839s 2s/step - loss: 0.2948 - accuracy: 0.8706 - val_loss: 0.2716 - val_accuracy: 0.8763\n",
      "Epoch 10/10\n",
      "420/420 [==============================] - 834s 2s/step - loss: 0.2820 - accuracy: 0.8781 - val_loss: 0.2587 - val_accuracy: 0.8768\n",
      "Tempo de treino:  8391.273586034775\n"
     ]
    }
   ],
   "source": [
    "num_epochs = 10\n",
    "\n",
    "start = time.time()\n",
    "cnn_history = cnn_model.fit(train_dataset, \n",
    "                    validation_data=validation_dataset,\n",
    "                    epochs=num_epochs)\n",
    "end = time.time()\n",
    "\n",
    "elapsed = end - start\n",
    "print(\"Tempo de treino: \", elapsed)"
   ]
  },
  {
   "cell_type": "markdown",
   "metadata": {},
   "source": [
    "### Model 2: MobileNet"
   ]
  },
  {
   "cell_type": "code",
   "execution_count": 61,
   "metadata": {
    "execution": {
     "iopub.status.busy": "2022-01-20T12:32:45.991063Z",
     "iopub.status.idle": "2022-01-20T12:32:45.991781Z"
    }
   },
   "outputs": [
    {
     "name": "stderr",
     "output_type": "stream",
     "text": [
      "/opt/conda/lib/python3.6/site-packages/keras_applications/mobilenet.py:207: UserWarning: `input_shape` is undefined or non-square, or `rows` is not in [128, 160, 192, 224]. Weights for input shape (224, 224) will be loaded as the default.\n",
      "  warnings.warn('`input_shape` is undefined or non-square, '\n"
     ]
    }
   ],
   "source": [
    "# Create the base model from the pre-trained model MobileNet\n",
    "base_model = tf.keras.applications.MobileNet(input_shape=(HEIGHT,WIDTH,3),\n",
    "                                             include_top=False,\n",
    "                                             weights='imagenet')\n",
    "\n",
    "base_model.trainable = False #Freeze the convolutional base"
   ]
  },
  {
   "cell_type": "code",
   "execution_count": 62,
   "metadata": {
    "execution": {
     "iopub.status.busy": "2022-01-20T12:32:45.992985Z",
     "iopub.status.idle": "2022-01-20T12:32:45.993601Z"
    }
   },
   "outputs": [
    {
     "name": "stdout",
     "output_type": "stream",
     "text": [
      "Model: \"sequential_1\"\n",
      "_________________________________________________________________\n",
      "Layer (type)                 Output Shape              Param #   \n",
      "=================================================================\n",
      "mobilenet_1.00_224 (Model)   (None, 14, 14, 1024)      3228864   \n",
      "_________________________________________________________________\n",
      "global_max_pooling2d (Global (None, 1024)              0         \n",
      "_________________________________________________________________\n",
      "dense_1 (Dense)              (None, 6)                 6150      \n",
      "=================================================================\n",
      "Total params: 3,235,014\n",
      "Trainable params: 6,150\n",
      "Non-trainable params: 3,228,864\n",
      "_________________________________________________________________\n"
     ]
    }
   ],
   "source": [
    "mobile_net_model = tf.keras.Sequential([base_model,\n",
    "                             tf.keras.layers.GlobalMaxPooling2D(),\n",
    "                             tf.keras.layers.Dense(NUM_LABELS, activation='softmax')])\n",
    "\n",
    "mobile_net_model.summary()"
   ]
  },
  {
   "cell_type": "code",
   "execution_count": 63,
   "metadata": {
    "execution": {
     "iopub.status.busy": "2022-01-20T12:32:45.994770Z",
     "iopub.status.idle": "2022-01-20T12:32:45.995413Z"
    }
   },
   "outputs": [],
   "source": [
    "mobile_net_model.compile(loss='binary_crossentropy',\n",
    "              optimizer='Adam',\n",
    "              metrics=[\"accuracy\"])"
   ]
  },
  {
   "cell_type": "code",
   "execution_count": 64,
   "metadata": {
    "execution": {
     "iopub.status.busy": "2022-01-20T12:32:45.996696Z",
     "iopub.status.idle": "2022-01-20T12:32:45.997276Z"
    }
   },
   "outputs": [
    {
     "name": "stdout",
     "output_type": "stream",
     "text": [
      "Epoch 1/10\n",
      "420/420 [==============================] - 866s 2s/step - loss: 0.7921 - acc: 0.7764 - val_loss: 0.9098 - val_acc: 0.7597\n",
      "Epoch 2/10\n",
      "420/420 [==============================] - 845s 2s/step - loss: 0.7421 - acc: 0.7897 - val_loss: 0.8680 - val_acc: 0.7729\n",
      "Epoch 3/10\n",
      "420/420 [==============================] - 851s 2s/step - loss: 0.7395 - acc: 0.7944 - val_loss: 1.0296 - val_acc: 0.7733\n",
      "Epoch 4/10\n",
      "420/420 [==============================] - 846s 2s/step - loss: 0.7093 - acc: 0.8026 - val_loss: 0.9740 - val_acc: 0.7786\n",
      "Epoch 5/10\n",
      "420/420 [==============================] - 849s 2s/step - loss: 0.6973 - acc: 0.8061 - val_loss: 1.1670 - val_acc: 0.7765\n",
      "Epoch 6/10\n",
      "420/420 [==============================] - 840s 2s/step - loss: 0.6996 - acc: 0.8075 - val_loss: 0.9998 - val_acc: 0.7882\n",
      "Epoch 7/10\n",
      "420/420 [==============================] - 847s 2s/step - loss: 0.6876 - acc: 0.8110 - val_loss: 1.1732 - val_acc: 0.7741\n",
      "Epoch 8/10\n",
      "420/420 [==============================] - 837s 2s/step - loss: 0.6760 - acc: 0.8149 - val_loss: 0.9447 - val_acc: 0.7983\n",
      "Epoch 9/10\n",
      "420/420 [==============================] - 847s 2s/step - loss: 0.6895 - acc: 0.8148 - val_loss: 1.4618 - val_acc: 0.7662\n",
      "Epoch 10/10\n",
      "420/420 [==============================] - 851s 2s/step - loss: 0.6888 - acc: 0.8152 - val_loss: 1.4952 - val_acc: 0.7671\n",
      "Tempo de treino:  8480.854511022568\n"
     ]
    }
   ],
   "source": [
    "num_epochs = 10\n",
    "\n",
    "start = time.time()\n",
    "mobile_net_history = mobile_net_model.fit(train_dataset, \n",
    "                    validation_data=validation_dataset,\n",
    "                    epochs=num_epochs)\n",
    "end = time.time()\n",
    "\n",
    "elapsed = end - start\n",
    "print(\"Tempo de treino: \", elapsed)"
   ]
  }
 ],
 "metadata": {
  "kernelspec": {
   "display_name": "Python 3",
   "language": "python",
   "name": "python3"
  },
  "language_info": {
   "codemirror_mode": {
    "name": "ipython",
    "version": 3
   },
   "file_extension": ".py",
   "mimetype": "text/x-python",
   "name": "python",
   "nbconvert_exporter": "python",
   "pygments_lexer": "ipython3",
   "version": "3.6.6"
  }
 },
 "nbformat": 4,
 "nbformat_minor": 4
}
